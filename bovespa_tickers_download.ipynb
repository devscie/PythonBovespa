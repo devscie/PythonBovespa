{
  "nbformat": 4,
  "nbformat_minor": 0,
  "metadata": {
    "colab": {
      "name": "bovespa_tickers_download.ipynb",
      "provenance": [],
      "authorship_tag": "ABX9TyPW0LFPXYvkdLVL6CW0rJ6a"
    },
    "kernelspec": {
      "name": "python3",
      "display_name": "Python 3"
    },
    "language_info": {
      "name": "python"
    }
  },
  "cells": [
    {
      "cell_type": "markdown",
      "metadata": {
        "id": "A-HpugGZklca"
      },
      "source": [
        "## Baixando séries históricas do Yahoo! Finance\n",
        "\n",
        "**Topicos:**\n",
        "\n",
        "* Como obter uma lista de ações\n",
        "* Como baixar séries históricas de uma lista de ações\n",
        "* Como salvar os DataFrames do Pandas no formato pickle<br><br>\n",
        "\n",
        "**Considerações**\n",
        "\n",
        "A ferramenta usada para baixar é o fix_yahoo_finance que é uma modificação feita a partir do pandas_datareader<br><br>\n",
        "\n",
        "**1. Obtendo a lista de ações** (opcional)\n",
        "\n",
        "O objetivo desta etapa é apenas obter uma lista de tickers.<br><br>\n",
        "\n",
        "**2. Lista de ações da Composição Atual do IBOV**\n",
        "\n",
        "Esta etapa obtém a lista de ações que compõem o índice Bovespa atual (2021).\n",
        "\n",
        "Será usada uma sequência de comandos bash para extrair a lista da página Composição Atual do IBOV - Índice Bovespa, que serão executados a dentro de uma rotina Python, que posteriormente irá salvar a lista em disco.<br><br>\n",
        "\n",
        "**3. Webscrapping: baixando a lista da página**\n",
        "\n",
        "Poderia ser feito usando BeautifulSoup e/ou Scrapy?\n",
        "\n",
        "Sim, no entanto para este caso utilizaremos comandos bash.<br><br>"
      ]
    },
    {
      "cell_type": "code",
      "metadata": {
        "id": "-Tq0ZKOvkXrJ"
      },
      "source": [
        "import subprocess"
      ],
      "execution_count": 1,
      "outputs": []
    },
    {
      "cell_type": "code",
      "metadata": {
        "id": "BdFuGKMKmiWp"
      },
      "source": [
        "# bash command line to be exectuted inside python\n",
        "commands = \"\"\"\n",
        "# Baixando o código html da página\n",
        "wget https://br.advfn.com/indice/ibovespa -O  tmp0.tmp\n",
        "\n",
        "\n",
        "# Extraindo as colunas de tickers e nomes\n",
        "cat tmp0.tmp | head -n434 | tail -n80 > tmp1.tmp\n",
        "cat tmp1.tmp | grep 'br.advfn.com' | cut -c1-200 | cut -d. -f3- | cut -d'\"' -f1,3 > tmp2.tmp\n",
        "cat tmp2.tmp | cut -d'/' -f4-6 | sed -e 's./cotacao\"Cotação .,.g' | cut -d',' -f1 | rev | cut -d'-' -f1 | rev  > tmp4.tmp\n",
        "cat tmp2.tmp | cut -d'/' -f4-6 | sed -e 's./cotacao\"Cotação .,.g' | cut -d',' -f2  > tmp5.tmp\n",
        "\n",
        "# Salvando a lista final\n",
        "paste -d, tmp4.tmp tmp5.tmp > lista_ibovespa.csv\n",
        "\n",
        "# Removendo arquivos temporários\n",
        "rm -f tmp*.tmp\n",
        "\"\"\""
      ],
      "execution_count": 2,
      "outputs": []
    },
    {
      "cell_type": "code",
      "metadata": {
        "id": "p-aZRlF7mlEk"
      },
      "source": [
        "p = subprocess.Popen(commands, shell=True, stdout=subprocess.PIPE)\n",
        "msg, err = p.communicate()"
      ],
      "execution_count": 3,
      "outputs": []
    },
    {
      "cell_type": "markdown",
      "metadata": {
        "id": "df1EqxePm7i9"
      },
      "source": [
        "**Modificações adicionais**\n",
        "\n",
        "Carregando a lista anterior como numpy.array:"
      ]
    },
    {
      "cell_type": "code",
      "metadata": {
        "colab": {
          "base_uri": "https://localhost:8080/"
        },
        "id": "dBUg9Nycm6uN",
        "outputId": "fad0d4b1-d9d6-4377-ff3e-0d400f095539"
      },
      "source": [
        "import numpy as np\n",
        "# ibovespa stock tickers\n",
        "lst_stocks = np.loadtxt('./lista_ibovespa.csv', delimiter=',', dtype=str)\n",
        "print('Number of stocks listed on iBovespa:', len(lst_stocks))"
      ],
      "execution_count": 4,
      "outputs": [
        {
          "output_type": "stream",
          "text": [
            "Number of stocks listed on iBovespa: 41\n"
          ],
          "name": "stdout"
        }
      ]
    },
    {
      "cell_type": "code",
      "metadata": {
        "colab": {
          "base_uri": "https://localhost:8080/"
        },
        "id": "JxGtbbO5nMoM",
        "outputId": "2d180e2c-3645-4e70-fd89-5f8ed84a7698"
      },
      "source": [
        "for ticker, name in lst_stocks[:41]:\n",
        "    print('Ticker: {} | Stock name: {}'.format(ticker, name))"
      ],
      "execution_count": 5,
      "outputs": [
        {
          "output_type": "stream",
          "text": [
            "Ticker: IBOV/cotacao?java=1\"nofollow | Stock name: IBOV/cotacao?java=1\"nofollow\n",
            "Ticker: ABEV3 | Stock name: Ambev SA\n",
            "Ticker: ASAI3 | Stock name: Sendas Distribuidora S.A.\n",
            "Ticker: AZUL4 | Stock name: AZUL SA\n",
            "Ticker: B3SA3 | Stock name: B3 SA - Brasil Bolsa Balcao\n",
            "Ticker: BBAS3 | Stock name: Bco Brasil Sa\n",
            "Ticker: BBDC3 | Stock name: Bco Bradesco Sa\n",
            "Ticker: BBDC4 | Stock name: Bco Bradesco Sa\n",
            "Ticker: BBSE3 | Stock name: Bbseguridade On NM\n",
            "Ticker: BEEF3 | Stock name: Minerva SA\n",
            "Ticker: BPAC11 | Stock name: Banco BTG Pactual S.A.\n",
            "Ticker: BRAP4 | Stock name: Bradespar Sa\n",
            "Ticker: BRDT3 | Stock name: Petrobras Distribuidora Sa\n",
            "Ticker: BRFS3 | Stock name: BRF Sa\n",
            "Ticker: BRKM5 | Stock name: Braskem Sa\n",
            "Ticker: BRML3 | Stock name: Br Malls Participacoes Sa\n",
            "Ticker: BTOW3 | Stock name: B2W Companhia Digital\n",
            "Ticker: CCRO3 | Stock name: CCR SA\n",
            "Ticker: CIEL3 | Stock name: Cielo SA\n",
            "Ticker: CMIG4 | Stock name: Cia Energetica Minas Gerais Cemig\n",
            "Ticker: COGN3 | Stock name: CognaEducacao SA\n",
            "Ticker: CPFE3 | Stock name: Cpfl Energia Sa\n",
            "Ticker: CPLE6 | Stock name: Cia Paranaense Energia Copel\n",
            "Ticker: CRFB3 | Stock name: Carrefour Bron\n",
            "Ticker: CSAN3 | Stock name: Cosan SA\n",
            "Ticker: CSNA3 | Stock name: Cia Siderurgica Nacional\n",
            "Ticker: CVCB3 | Stock name: CVC Brasil Operadora E Agencia De Viagens SA\n",
            "Ticker: CYRE3 | Stock name: Cyrela Brazil Realty Sa Empreendimentos Participacoes\n",
            "Ticker: ECOR3 | Stock name: Ecorodovias Infraestrutura E Logistica SA\n",
            "Ticker: EGIE3 | Stock name: Engie Brasil Energia S.A.\n",
            "Ticker: ELET3 | Stock name: Centrais Eletricas Brasileiras SA\n",
            "Ticker: ELET6 | Stock name: Centrais Eletricas Brasileiras SA\n",
            "Ticker: EMBR3 | Stock name: Embraer SA\n",
            "Ticker: ENBR3 | Stock name: Edp Energias Brasil Sa\n",
            "Ticker: ENEV3 | Stock name: Eneva SA\n",
            "Ticker: ENGI11 | Stock name: Energisa Sa\n",
            "Ticker: EQTL3 | Stock name: Equatorial Energia Sa\n",
            "Ticker: EZTC3 | Stock name: Ez Tec Empreendimentos Participacoes Sa\n",
            "Ticker: FLRY3 | Stock name: Fleury SA\n",
            "Ticker: GGBR4 | Stock name: Gerdau Sa\n",
            "Ticker: GNDI3 | Stock name: Intermdica ON\n"
          ],
          "name": "stdout"
        }
      ]
    },
    {
      "cell_type": "markdown",
      "metadata": {
        "id": "EmDFiEmOntrc"
      },
      "source": [
        "O Yahoo! Finance emprega um sufixo para ações de bolsas fora dos EUA. Para as ações da Bovespa, por exemplo, aplica o sufixo **.SA** no símbolo de cada ação. Ou seja, a ação ABEV3 da Ambev é referenciada como 'ABEV3**.SA**'.\n",
        "\n",
        "**Referências:**\n",
        "\n",
        "[Exchanges and data providers on Yahoo Finance](https://help.yahoo.com/kb/SLN2310.html)\n",
        "\n",
        "[Yahoo Finance Exchanges And Suffixes](https://sites.google.com/a/stockhistoricaldata.com/stock-historical-data/yahoo-finance-suffixes)"
      ]
    },
    {
      "cell_type": "markdown",
      "metadata": {
        "id": "mYKQtJWun_Rn"
      },
      "source": [
        "**Adicionando o sufixo nos simbolos:**"
      ]
    },
    {
      "cell_type": "code",
      "metadata": {
        "colab": {
          "base_uri": "https://localhost:8080/"
        },
        "id": "4B_s8bYnoD3U",
        "outputId": "fb818010-073b-4c1a-9d1d-ece8eb2f29ee"
      },
      "source": [
        "# ticker symbols with Bovespa's suffix \n",
        "lst_tickers = np.asarray([ '{}.SA'.format(x) for x in lst_stocks[:,0]], dtype=str)\n",
        "\n",
        "# \n",
        "for ticker in lst_tickers[1:41]:\n",
        "    print('Ticker: {}'.format(ticker))"
      ],
      "execution_count": 6,
      "outputs": [
        {
          "output_type": "stream",
          "text": [
            "Ticker: ABEV3.SA\n",
            "Ticker: ASAI3.SA\n",
            "Ticker: AZUL4.SA\n",
            "Ticker: B3SA3.SA\n",
            "Ticker: BBAS3.SA\n",
            "Ticker: BBDC3.SA\n",
            "Ticker: BBDC4.SA\n",
            "Ticker: BBSE3.SA\n",
            "Ticker: BEEF3.SA\n",
            "Ticker: BPAC11.SA\n",
            "Ticker: BRAP4.SA\n",
            "Ticker: BRDT3.SA\n",
            "Ticker: BRFS3.SA\n",
            "Ticker: BRKM5.SA\n",
            "Ticker: BRML3.SA\n",
            "Ticker: BTOW3.SA\n",
            "Ticker: CCRO3.SA\n",
            "Ticker: CIEL3.SA\n",
            "Ticker: CMIG4.SA\n",
            "Ticker: COGN3.SA\n",
            "Ticker: CPFE3.SA\n",
            "Ticker: CPLE6.SA\n",
            "Ticker: CRFB3.SA\n",
            "Ticker: CSAN3.SA\n",
            "Ticker: CSNA3.SA\n",
            "Ticker: CVCB3.SA\n",
            "Ticker: CYRE3.SA\n",
            "Ticker: ECOR3.SA\n",
            "Ticker: EGIE3.SA\n",
            "Ticker: ELET3.SA\n",
            "Ticker: ELET6.SA\n",
            "Ticker: EMBR3.SA\n",
            "Ticker: ENBR3.SA\n",
            "Ticker: ENEV3.SA\n",
            "Ticker: ENGI11.SA\n",
            "Ticker: EQTL3.SA\n",
            "Ticker: EZTC3.SA\n",
            "Ticker: FLRY3.SA\n",
            "Ticker: GGBR4.SA\n",
            "Ticker: GNDI3.SA\n"
          ],
          "name": "stdout"
        }
      ]
    },
    {
      "cell_type": "markdown",
      "metadata": {
        "id": "8PaNBbYCoDOT"
      },
      "source": [
        "**Incorporando BVMF3, Ibovespa e Dólar**<br><br>\n",
        "\n",
        "* Até 2017 a ação B3 ON tinha o símbolo BVMF3 e em 2018 passou a usar o símbolo B3SA3. Assim a BVMF3.SA será adicionada manualmente à lista de ações a serem baixadas.\n",
        "\n",
        "* O índice Bovespa (^BVSP) e a cotação do Dólar em reais (USDBRL=X) também serão adicionadas. (Perceba o prefixo '^' e o sufixo '=X' usados.)"
      ]
    },
    {
      "cell_type": "code",
      "metadata": {
        "colab": {
          "base_uri": "https://localhost:8080/"
        },
        "id": "o7ejYObEpGvt",
        "outputId": "97c37a96-235c-445f-f557-1b5f42ae639d"
      },
      "source": [
        "# adding BVMF3.SA\n",
        "lst_tickers = np.sort(np.concatenate((lst_tickers, ['BVMF3.SA']))) # this stock changed the name to B3SA3 in 2018\n",
        "\n",
        "# adding ^BVSP and USDBRL=X\n",
        "lst_tickers = np.concatenate((lst_tickers, ['^BVSP', 'USDBRL=X'])) # this stock changed the name to B3SA3 in 2018\n",
        "\n",
        "# checking the last ones\n",
        "for ticker in lst_tickers[-2:]:\n",
        "    print('Ticker: {}'.format(ticker))\n",
        "\n",
        "# saving the list\n",
        "np.savetxt('list_tickers_yahoo.txt', lst_tickers, fmt='%s')"
      ],
      "execution_count": 7,
      "outputs": [
        {
          "output_type": "stream",
          "text": [
            "Ticker: ^BVSP\n",
            "Ticker: USDBRL=X\n"
          ],
          "name": "stdout"
        }
      ]
    },
    {
      "cell_type": "markdown",
      "metadata": {
        "id": "Mt7Qfbf9qzAt"
      },
      "source": [
        "## Baixando as séries históricas\n",
        "\n",
        "O API do Yahoo! Finance não funciona mais como antes, causando falhas no uso da biblioteca pandas_datareader.<br><br>\n",
        "\n",
        "O recente mal funcionamento com algumas APIs é descrito na página de desenvolvimento do pandas_datareader:<br><br>\n",
        "\n",
        "\n",
        "**Yahoo!, Google Options, Google Quotes and EDGAR have been immediately deprecated.**\n",
        "\n",
        "> Immediate deprecation of Yahoo!, Google Options and Quotes and EDGAR. The end points behind these APIs have radically changed and the existing readers require complete rewrites. In the case of most Yahoo! data the endpoints have been removed. PDR would like to restore these features, and pull requests are welcome.<br><br>\n",
        "\n",
        "**Existe porém uma solução temporária para isto, o [fix-yahoo-finance](https://github.com/ranaroussi/fix-yahoo-finance).**<br><br>\n",
        "\n",
        "O fix_yahoo_finance não está disponível na distribuição Anaconda, mas é possível o instalar a partir do pip:\n",
        "\n",
        "`$ pip install fix_yahoo_finance --upgrade --no-cache-dir`<br><br>\n",
        "\n",
        "**Usando o fix_yahoo_finance**\n",
        "\n",
        "Abaixo é definida uma função que utiliza o módulo fix_yahoo_finance para baixar séries históricas do API do Yahoo! Finance.<br><br>\n",
        "\n",
        "A função método download_stocks_from_yahoo recebe a lista de símbolos, baixa cada elemento da lista como DataFrame do Pandas e os salva no formato pickle na pasta indicada pela variável output_path. O nome do arquivo salvo para cada ação da lista é df_XXXXX.pickle onde XXXXX representa o símbolo da ação em questão, onde os prefixos e sufixos são removidos."
      ]
    },
    {
      "cell_type": "code",
      "metadata": {
        "id": "KxLAANf7sapU"
      },
      "source": [
        "import numpy as np\n",
        "import os\n",
        "import subprocess\n",
        "#from pandas_datareader import data as pdr\n",
        "import fix_yahoo_finance as yf\n",
        "\n",
        "# See https://github.com/ranaroussi/fix-yahoo-finance/blob/master/README.rst\n",
        "yf.pdr_override() # <== that's all it takes :-)\n",
        "\n",
        "\n",
        "def download_stocks_from_yahoo(tickers, start, end, output_path='', verbose=1):\n",
        "    '''\n",
        "    Downloads stocks from Yahoo! Finance and saves each stock as a Pandas DataFrame object \n",
        "    in the pickle data format: df_XXXXX.pickle, where XXXXX is the ticker of a particular stock.\n",
        "    \n",
        "    Prefixes and suffixes are removed from the output name.    \n",
        "    \n",
        "    \n",
        "    Inputs: \n",
        "    \n",
        "        tickers: list/array of tickers\n",
        "        start/end: datetime.datetime.date objects\n",
        "        output_path: string\n",
        "        \n",
        "    Outputs:\n",
        "        failed: list of the tickers whose download failed\n",
        "    \n",
        "    '''\n",
        "    \n",
        "    failed = []\n",
        "    \n",
        "    # creates the output folder path if it doesnt exist yet\n",
        "    command = 'mkdir -p {}'.format(output_path)\n",
        "    p = subprocess.Popen(command, shell=True, stdout=subprocess.PIPE)\n",
        "    msg, err = p.communicate()    \n",
        "    \n",
        "    \n",
        "    for ticker in tickers:\n",
        "        \n",
        "        ticker = ticker.upper()\n",
        "        \n",
        "        # deleting Yahoo's prefixes and suffixes from the name\n",
        "        stock_name = ticker.replace('^', '')\n",
        "        stock_name = stock_name.split('=')[0]\n",
        "        stock_name = stock_name.replace('.SA', '')\n",
        "        \n",
        "        # setting the full path for the output file\n",
        "        fname_output = os.path.join(output_path,'df_{}.pickle'.format(stock_name))\n",
        "       \n",
        "        try:\n",
        "            if verbose:\n",
        "                print('\\n Attempting to download {} from {} to {}.'.format(ticker, start, end))\n",
        "                \n",
        "            df = yf.download(ticker, start=start, end=end, as_panel=False)\n",
        "               \n",
        "        except:\n",
        "            failed.append(ticker)\n",
        "            print('* Unable to download {}. * \\n'.format(ticker))\n",
        "            \n",
        "        else:\n",
        "            try:\n",
        "                df.to_pickle(fname_output)\n",
        "                \n",
        "            except:\n",
        "                print('* Error when trying to save on disk {}. * \\n'.format(fname_output))     \n",
        "\n",
        "    return failed"
      ],
      "execution_count": 8,
      "outputs": []
    },
    {
      "cell_type": "markdown",
      "metadata": {
        "id": "a9hQcj4fs7Wi"
      },
      "source": [
        "**Download das ações**\n",
        "\n",
        "Serão baixadas as séries históricas das ações do período de 01/01/2001 até a data presente. Os DataFrames serao salvos no formato pickle no diretório 'raw'."
      ]
    },
    {
      "cell_type": "code",
      "metadata": {
        "id": "G0k0Gvgrs4bY"
      },
      "source": [
        "import numpy as np\n",
        "import datetime\n",
        "\n",
        "# loading the list of tickers as a np.array\n",
        "tickers = np.loadtxt('list_tickers_yahoo.txt', dtype=str)\n",
        "\n",
        "# setting the start and end dates\n",
        "start = datetime.datetime(2001, 1, 1).date()\n",
        "end = datetime.datetime.today().date()\n",
        "\n",
        "# setting folder name where dataframes will be saved\n",
        "output_path = 'raw'"
      ],
      "execution_count": 9,
      "outputs": []
    },
    {
      "cell_type": "code",
      "metadata": {
        "colab": {
          "base_uri": "https://localhost:8080/"
        },
        "id": "ZZP0JzfbtXXp",
        "outputId": "516f4661-9462-4265-ca45-4295fc6d210a"
      },
      "source": [
        "# downloading list of tickers\n",
        "lst_failed = download_stocks_from_yahoo(tickers[:], start, end, output_path)"
      ],
      "execution_count": 10,
      "outputs": [
        {
          "output_type": "stream",
          "text": [
            "\n",
            " Attempting to download ABEV3.SA from 2001-01-01 to 2021-04-22.\n",
            "[*********************100%***********************]  1 of 1 downloaded\n",
            "\n",
            " Attempting to download ASAI3.SA from 2001-01-01 to 2021-04-22.\n",
            "[*********************100%***********************]  1 of 1 downloaded\n",
            "\n",
            " Attempting to download AZUL4.SA from 2001-01-01 to 2021-04-22.\n",
            "[*********************100%***********************]  1 of 1 downloaded\n",
            "\n",
            " Attempting to download B3SA3.SA from 2001-01-01 to 2021-04-22.\n",
            "[*********************100%***********************]  1 of 1 downloaded\n",
            "\n",
            " Attempting to download BBAS3.SA from 2001-01-01 to 2021-04-22.\n",
            "[*********************100%***********************]  1 of 1 downloaded\n",
            "\n",
            " Attempting to download BBDC3.SA from 2001-01-01 to 2021-04-22.\n",
            "[*********************100%***********************]  1 of 1 downloaded\n",
            "\n",
            " Attempting to download BBDC4.SA from 2001-01-01 to 2021-04-22.\n",
            "[*********************100%***********************]  1 of 1 downloaded\n",
            "\n",
            " Attempting to download BBSE3.SA from 2001-01-01 to 2021-04-22.\n",
            "[*********************100%***********************]  1 of 1 downloaded\n",
            "\n",
            " Attempting to download BEEF3.SA from 2001-01-01 to 2021-04-22.\n",
            "[*********************100%***********************]  1 of 1 downloaded\n",
            "\n",
            " Attempting to download BPAC11.SA from 2001-01-01 to 2021-04-22.\n",
            "[*********************100%***********************]  1 of 1 downloaded\n",
            "\n",
            " Attempting to download BRAP4.SA from 2001-01-01 to 2021-04-22.\n",
            "[*********************100%***********************]  1 of 1 downloaded\n",
            "\n",
            " Attempting to download BRDT3.SA from 2001-01-01 to 2021-04-22.\n",
            "[*********************100%***********************]  1 of 1 downloaded\n",
            "\n",
            " Attempting to download BRFS3.SA from 2001-01-01 to 2021-04-22.\n",
            "[*********************100%***********************]  1 of 1 downloaded\n",
            "\n",
            " Attempting to download BRKM5.SA from 2001-01-01 to 2021-04-22.\n",
            "[*********************100%***********************]  1 of 1 downloaded\n",
            "\n",
            " Attempting to download BRML3.SA from 2001-01-01 to 2021-04-22.\n",
            "[*********************100%***********************]  1 of 1 downloaded\n",
            "\n",
            " Attempting to download BTOW3.SA from 2001-01-01 to 2021-04-22.\n",
            "[*********************100%***********************]  1 of 1 downloaded\n",
            "\n",
            " Attempting to download BVMF3.SA from 2001-01-01 to 2021-04-22.\n",
            "[*********************100%***********************]  1 of 1 downloaded\n",
            "* Unable to download BVMF3.SA. * \n",
            "\n",
            "\n",
            " Attempting to download CCRO3.SA from 2001-01-01 to 2021-04-22.\n",
            "[*********************100%***********************]  1 of 1 downloaded\n",
            "\n",
            " Attempting to download CIEL3.SA from 2001-01-01 to 2021-04-22.\n",
            "[*********************100%***********************]  1 of 1 downloaded\n",
            "\n",
            " Attempting to download CMIG4.SA from 2001-01-01 to 2021-04-22.\n",
            "[*********************100%***********************]  1 of 1 downloaded\n",
            "\n",
            " Attempting to download COGN3.SA from 2001-01-01 to 2021-04-22.\n",
            "[*********************100%***********************]  1 of 1 downloaded\n",
            "\n",
            " Attempting to download CPFE3.SA from 2001-01-01 to 2021-04-22.\n",
            "[*********************100%***********************]  1 of 1 downloaded\n",
            "\n",
            " Attempting to download CPLE6.SA from 2001-01-01 to 2021-04-22.\n",
            "[*********************100%***********************]  1 of 1 downloaded\n",
            "\n",
            " Attempting to download CRFB3.SA from 2001-01-01 to 2021-04-22.\n",
            "[*********************100%***********************]  1 of 1 downloaded\n",
            "\n",
            " Attempting to download CSAN3.SA from 2001-01-01 to 2021-04-22.\n",
            "[*********************100%***********************]  1 of 1 downloaded\n",
            "\n",
            " Attempting to download CSNA3.SA from 2001-01-01 to 2021-04-22.\n",
            "[*********************100%***********************]  1 of 1 downloaded\n",
            "\n",
            " Attempting to download CVCB3.SA from 2001-01-01 to 2021-04-22.\n",
            "[*********************100%***********************]  1 of 1 downloaded\n",
            "\n",
            " Attempting to download CYRE3.SA from 2001-01-01 to 2021-04-22.\n",
            "[*********************100%***********************]  1 of 1 downloaded\n",
            "\n",
            " Attempting to download ECOR3.SA from 2001-01-01 to 2021-04-22.\n",
            "[*********************100%***********************]  1 of 1 downloaded\n",
            "\n",
            " Attempting to download EGIE3.SA from 2001-01-01 to 2021-04-22.\n",
            "[*********************100%***********************]  1 of 1 downloaded\n",
            "\n",
            " Attempting to download ELET3.SA from 2001-01-01 to 2021-04-22.\n",
            "[*********************100%***********************]  1 of 1 downloaded\n",
            "\n",
            " Attempting to download ELET6.SA from 2001-01-01 to 2021-04-22.\n",
            "[*********************100%***********************]  1 of 1 downloaded\n",
            "\n",
            " Attempting to download EMBR3.SA from 2001-01-01 to 2021-04-22.\n",
            "[*********************100%***********************]  1 of 1 downloaded\n",
            "\n",
            " Attempting to download ENBR3.SA from 2001-01-01 to 2021-04-22.\n",
            "[*********************100%***********************]  1 of 1 downloaded\n",
            "\n",
            " Attempting to download ENEV3.SA from 2001-01-01 to 2021-04-22.\n",
            "[*********************100%***********************]  1 of 1 downloaded\n",
            "\n",
            " Attempting to download ENGI11.SA from 2001-01-01 to 2021-04-22.\n",
            "[*********************100%***********************]  1 of 1 downloaded\n",
            "\n",
            " Attempting to download EQTL3.SA from 2001-01-01 to 2021-04-22.\n",
            "[*********************100%***********************]  1 of 1 downloaded\n",
            "\n",
            " Attempting to download EZTC3.SA from 2001-01-01 to 2021-04-22.\n",
            "[*********************100%***********************]  1 of 1 downloaded\n",
            "\n",
            " Attempting to download FLRY3.SA from 2001-01-01 to 2021-04-22.\n",
            "[*********************100%***********************]  1 of 1 downloaded\n",
            "\n",
            " Attempting to download GGBR4.SA from 2001-01-01 to 2021-04-22.\n",
            "[*********************100%***********************]  1 of 1 downloaded\n",
            "\n",
            " Attempting to download GNDI3.SA from 2001-01-01 to 2021-04-22.\n",
            "[*********************100%***********************]  1 of 1 downloaded\n",
            "\n",
            " Attempting to download IBOV/COTACAO?JAVA=1\"NOFOLLOW.SA from 2001-01-01 to 2021-04-22.\n",
            "[*********************100%***********************]  1 of 1 downloaded\n",
            "* Unable to download IBOV/COTACAO?JAVA=1\"NOFOLLOW.SA. * \n",
            "\n",
            "\n",
            " Attempting to download ^BVSP from 2001-01-01 to 2021-04-22.\n",
            "[*********************100%***********************]  1 of 1 downloaded\n",
            "\n",
            " Attempting to download USDBRL=X from 2001-01-01 to 2021-04-22.\n",
            "[*********************100%***********************]  1 of 1 downloaded\n"
          ],
          "name": "stdout"
        }
      ]
    },
    {
      "cell_type": "code",
      "metadata": {
        "colab": {
          "base_uri": "https://localhost:8080/"
        },
        "id": "Gd9eXHx-tg5m",
        "outputId": "97c81e57-c1ea-4879-bd2d-ea7f01ac34b8"
      },
      "source": [
        "# Checking for errors\n",
        "\n",
        "if len(lst_failed) > 0:\n",
        "    print('Unable to download the following stocks:')\n",
        "    print(lst_failed)\n",
        "    \n",
        "    #print('\\n Trying one more time:')\n",
        "    #lst_failed = download_stocks_from_yahoo(lst_failed, start, end, output_path)\n",
        "\n",
        "else:\n",
        "    print('All tickers downloaded successfully')"
      ],
      "execution_count": 11,
      "outputs": [
        {
          "output_type": "stream",
          "text": [
            "Unable to download the following stocks:\n",
            "['BVMF3.SA', 'IBOV/COTACAO?JAVA=1\"NOFOLLOW.SA']\n"
          ],
          "name": "stdout"
        }
      ]
    },
    {
      "cell_type": "markdown",
      "metadata": {
        "id": "_H317MqRuFmp"
      },
      "source": [
        "**Concatenação da BVMF3 e B3SA3 (opcional)**\n",
        "\n",
        "Como comentado anteriormente, esta ação mudou de nome em 2018. Neste passo, os DataFrames correspondentes a estas ações serão concatenados em um novo que será salvo em disco."
      ]
    },
    {
      "cell_type": "code",
      "metadata": {
        "colab": {
          "base_uri": "https://localhost:8080/",
          "height": 252
        },
        "id": "1Z_cjl4VuDDa",
        "outputId": "3534c9b9-5629-40cb-a6c6-dab198b990b5"
      },
      "source": [
        "import pandas as pd\n",
        "import os\n",
        "\n",
        "picklepath = os.path.join(output_path, 'df_{}.pickle')\n",
        "\n",
        "#df1 = pd.read_pickle( picklepath.format('BVMF3') )\n",
        "df2 = pd.read_pickle( picklepath.format('B3SA3') )\n",
        "\n",
        "#\n",
        "#print(df1.shape, df2.shape)\n",
        "\n",
        "print(df2.shape)\n",
        "\n",
        "df2.tail()"
      ],
      "execution_count": 12,
      "outputs": [
        {
          "output_type": "stream",
          "text": [
            "(3332, 6)\n"
          ],
          "name": "stdout"
        },
        {
          "output_type": "execute_result",
          "data": {
            "text/html": [
              "<div>\n",
              "<style scoped>\n",
              "    .dataframe tbody tr th:only-of-type {\n",
              "        vertical-align: middle;\n",
              "    }\n",
              "\n",
              "    .dataframe tbody tr th {\n",
              "        vertical-align: top;\n",
              "    }\n",
              "\n",
              "    .dataframe thead th {\n",
              "        text-align: right;\n",
              "    }\n",
              "</style>\n",
              "<table border=\"1\" class=\"dataframe\">\n",
              "  <thead>\n",
              "    <tr style=\"text-align: right;\">\n",
              "      <th></th>\n",
              "      <th>Open</th>\n",
              "      <th>High</th>\n",
              "      <th>Low</th>\n",
              "      <th>Close</th>\n",
              "      <th>Adj Close</th>\n",
              "      <th>Volume</th>\n",
              "    </tr>\n",
              "    <tr>\n",
              "      <th>Date</th>\n",
              "      <th></th>\n",
              "      <th></th>\n",
              "      <th></th>\n",
              "      <th></th>\n",
              "      <th></th>\n",
              "      <th></th>\n",
              "    </tr>\n",
              "  </thead>\n",
              "  <tbody>\n",
              "    <tr>\n",
              "      <th>2021-04-14</th>\n",
              "      <td>55.480000</td>\n",
              "      <td>55.919998</td>\n",
              "      <td>54.820000</td>\n",
              "      <td>55.029999</td>\n",
              "      <td>55.029999</td>\n",
              "      <td>11653300</td>\n",
              "    </tr>\n",
              "    <tr>\n",
              "      <th>2021-04-15</th>\n",
              "      <td>55.099998</td>\n",
              "      <td>55.360001</td>\n",
              "      <td>54.080002</td>\n",
              "      <td>54.560001</td>\n",
              "      <td>54.560001</td>\n",
              "      <td>13067000</td>\n",
              "    </tr>\n",
              "    <tr>\n",
              "      <th>2021-04-16</th>\n",
              "      <td>54.480000</td>\n",
              "      <td>55.790001</td>\n",
              "      <td>54.330002</td>\n",
              "      <td>55.400002</td>\n",
              "      <td>55.400002</td>\n",
              "      <td>12728100</td>\n",
              "    </tr>\n",
              "    <tr>\n",
              "      <th>2021-04-19</th>\n",
              "      <td>55.419998</td>\n",
              "      <td>55.560001</td>\n",
              "      <td>54.360001</td>\n",
              "      <td>54.360001</td>\n",
              "      <td>54.360001</td>\n",
              "      <td>11616000</td>\n",
              "    </tr>\n",
              "    <tr>\n",
              "      <th>2021-04-20</th>\n",
              "      <td>54.099998</td>\n",
              "      <td>54.380001</td>\n",
              "      <td>53.529999</td>\n",
              "      <td>53.720001</td>\n",
              "      <td>53.720001</td>\n",
              "      <td>10378500</td>\n",
              "    </tr>\n",
              "  </tbody>\n",
              "</table>\n",
              "</div>"
            ],
            "text/plain": [
              "                 Open       High        Low      Close  Adj Close    Volume\n",
              "Date                                                                       \n",
              "2021-04-14  55.480000  55.919998  54.820000  55.029999  55.029999  11653300\n",
              "2021-04-15  55.099998  55.360001  54.080002  54.560001  54.560001  13067000\n",
              "2021-04-16  54.480000  55.790001  54.330002  55.400002  55.400002  12728100\n",
              "2021-04-19  55.419998  55.560001  54.360001  54.360001  54.360001  11616000\n",
              "2021-04-20  54.099998  54.380001  53.529999  53.720001  53.720001  10378500"
            ]
          },
          "metadata": {
            "tags": []
          },
          "execution_count": 12
        }
      ]
    },
    {
      "cell_type": "code",
      "metadata": {
        "colab": {
          "base_uri": "https://localhost:8080/"
        },
        "id": "raHZlyufusmH",
        "outputId": "44e1438e-dfac-4a5a-b306-caf4f9986f68"
      },
      "source": [
        "#df3 = pd.concat([df1, df2], axis=0)\n",
        "\n",
        "#print(df1.shape, df2.shape, df3.shape)\n",
        "\n",
        "#print(df3.columns)\n",
        "\n",
        "print(df2.columns)"
      ],
      "execution_count": 14,
      "outputs": [
        {
          "output_type": "stream",
          "text": [
            "Index(['Open', 'High', 'Low', 'Close', 'Adj Close', 'Volume'], dtype='object')\n"
          ],
          "name": "stdout"
        }
      ]
    },
    {
      "cell_type": "code",
      "metadata": {
        "id": "xnMpN-FJuSRz"
      },
      "source": [
        "#df3.tail() # there are few days missing\n",
        "\n",
        "df2.tail() # there are few days missing\n",
        "\n",
        "# re-writing on disk\n",
        "#df3.to_pickle(picklepath.format('B3SA3'))\n",
        "\n",
        "df2.to_pickle(picklepath.format('B3SA3'))\n",
        "\n",
        "# deleting from disk\n",
        "#status = os.system('rm -f {}'.format(picklepath.format('BVMF3')))"
      ],
      "execution_count": 13,
      "outputs": []
    }
  ]
}
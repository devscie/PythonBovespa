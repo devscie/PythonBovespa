{
  "nbformat": 4,
  "nbformat_minor": 0,
  "metadata": {
    "colab": {
      "name": "bovespa_tickers_download_portfolio.ipynb",
      "provenance": [],
      "authorship_tag": "ABX9TyNjQ1GwEmLK1FLFX1ZrwSND"
    },
    "kernelspec": {
      "name": "python3",
      "display_name": "Python 3"
    },
    "language_info": {
      "name": "python"
    }
  },
  "cells": [
    {
      "cell_type": "markdown",
      "metadata": {
        "id": "A-HpugGZklca"
      },
      "source": [
        "## Baixando séries históricas do Yahoo! Finance\n",
        "\n",
        "**Topicos:**\n",
        "\n",
        "* Como obter uma lista de ações\n",
        "* Como baixar séries históricas de uma lista de ações\n",
        "* Como salvar os DataFrames do Pandas no formato pickle<br><br>\n",
        "\n",
        "**Considerações**\n",
        "\n",
        "A ferramenta usada para baixar é o fix_yahoo_finance que é uma modificação feita a partir do pandas_datareader<br><br>\n",
        "\n",
        "**1. Obtendo a lista de ações** (opcional)\n",
        "\n",
        "O objetivo desta etapa é apenas obter uma lista de tickers.<br><br>\n",
        "\n",
        "**2. Lista de ações da Composição Atual do IBOV**\n",
        "\n",
        "Esta etapa obtém a lista de ações que compõem o índice Bovespa atual (2021).\n",
        "\n",
        "Será usada uma sequência de comandos bash para extrair a lista da página Composição Atual do IBOV - Índice Bovespa, que serão executados a dentro de uma rotina Python, que posteriormente irá salvar a lista em disco.<br><br>\n",
        "\n",
        "**3. Webscrapping: baixando a lista da página**\n",
        "\n",
        "Poderia ser feito usando BeautifulSoup e/ou Scrapy?\n",
        "\n",
        "Sim, no entanto para este caso utilizaremos comandos bash.<br><br>"
      ]
    },
    {
      "cell_type": "code",
      "metadata": {
        "id": "-Tq0ZKOvkXrJ"
      },
      "source": [
        "import subprocess"
      ],
      "execution_count": 1,
      "outputs": []
    },
    {
      "cell_type": "code",
      "metadata": {
        "id": "BdFuGKMKmiWp"
      },
      "source": [
        "# bash command line to be exectuted inside python\n",
        "commands = \"\"\"\n",
        "# Baixando o código html da página\n",
        "wget https://br.advfn.com/indice/ibovespa -O  tmp0.tmp\n",
        "\n",
        "\n",
        "# Extraindo as colunas de tickers e nomes\n",
        "cat tmp0.tmp | head -n434 | tail -n80 > tmp1.tmp\n",
        "cat tmp1.tmp | grep 'br.advfn.com' | cut -c1-200 | cut -d. -f3- | cut -d'\"' -f1,3 > tmp2.tmp\n",
        "cat tmp2.tmp | cut -d'/' -f4-6 | sed -e 's./cotacao\"Cotação .,.g' | cut -d',' -f1 | rev | cut -d'-' -f1 | rev  > tmp4.tmp\n",
        "cat tmp2.tmp | cut -d'/' -f4-6 | sed -e 's./cotacao\"Cotação .,.g' | cut -d',' -f2  > tmp5.tmp\n",
        "\n",
        "# Salvando a lista final\n",
        "paste -d, tmp4.tmp tmp5.tmp > lista_ibovespa.csv\n",
        "\n",
        "# Removendo arquivos temporários\n",
        "rm -f tmp*.tmp\n",
        "\"\"\""
      ],
      "execution_count": 2,
      "outputs": []
    },
    {
      "cell_type": "code",
      "metadata": {
        "id": "p-aZRlF7mlEk"
      },
      "source": [
        "p = subprocess.Popen(commands, shell=True, stdout=subprocess.PIPE)\n",
        "msg, err = p.communicate()"
      ],
      "execution_count": 3,
      "outputs": []
    },
    {
      "cell_type": "markdown",
      "metadata": {
        "id": "df1EqxePm7i9"
      },
      "source": [
        "**Modificações adicionais**\n",
        "\n",
        "Carregando a lista anterior como numpy.array:"
      ]
    },
    {
      "cell_type": "code",
      "metadata": {
        "colab": {
          "base_uri": "https://localhost:8080/"
        },
        "id": "dBUg9Nycm6uN",
        "outputId": "6be0e72e-f166-4f68-dda7-bec344370e7f"
      },
      "source": [
        "import numpy as np\n",
        "# ibovespa stock tickers\n",
        "lst_stocks = np.loadtxt('./lista_ibovespa.csv', delimiter=',', dtype=str)\n",
        "print('Number of stocks listed on iBovespa:', len(lst_stocks))"
      ],
      "execution_count": 4,
      "outputs": [
        {
          "output_type": "stream",
          "text": [
            "Number of stocks listed on iBovespa: 41\n"
          ],
          "name": "stdout"
        }
      ]
    },
    {
      "cell_type": "code",
      "metadata": {
        "colab": {
          "base_uri": "https://localhost:8080/"
        },
        "id": "JxGtbbO5nMoM",
        "outputId": "27944f1e-bc23-4db0-f525-b7034832a3ed"
      },
      "source": [
        "for ticker, name in lst_stocks[:41]:\n",
        "    print('Ticker: {} | Stock name: {}'.format(ticker, name))"
      ],
      "execution_count": 5,
      "outputs": [
        {
          "output_type": "stream",
          "text": [
            "Ticker: IBOV/cotacao?java=1\"nofollow | Stock name: IBOV/cotacao?java=1\"nofollow\n",
            "Ticker: ABEV3 | Stock name: Ambev SA\n",
            "Ticker: ASAI3 | Stock name: Sendas Distribuidora S.A.\n",
            "Ticker: AZUL4 | Stock name: AZUL SA\n",
            "Ticker: B3SA3 | Stock name: B3 SA - Brasil Bolsa Balcao\n",
            "Ticker: BBAS3 | Stock name: Bco Brasil Sa\n",
            "Ticker: BBDC3 | Stock name: Bco Bradesco Sa\n",
            "Ticker: BBDC4 | Stock name: Bco Bradesco Sa\n",
            "Ticker: BBSE3 | Stock name: Bbseguridade On NM\n",
            "Ticker: BEEF3 | Stock name: Minerva SA\n",
            "Ticker: BPAC11 | Stock name: Banco BTG Pactual S.A.\n",
            "Ticker: BRAP4 | Stock name: Bradespar Sa\n",
            "Ticker: BRDT3 | Stock name: Petrobras Distribuidora Sa\n",
            "Ticker: BRFS3 | Stock name: BRF Sa\n",
            "Ticker: BRKM5 | Stock name: Braskem Sa\n",
            "Ticker: BRML3 | Stock name: Br Malls Participacoes Sa\n",
            "Ticker: BTOW3 | Stock name: B2W Companhia Digital\n",
            "Ticker: CCRO3 | Stock name: CCR SA\n",
            "Ticker: CIEL3 | Stock name: Cielo SA\n",
            "Ticker: CMIG4 | Stock name: Cia Energetica Minas Gerais Cemig\n",
            "Ticker: COGN3 | Stock name: CognaEducacao SA\n",
            "Ticker: CPFE3 | Stock name: Cpfl Energia Sa\n",
            "Ticker: CPLE6 | Stock name: Cia Paranaense Energia Copel\n",
            "Ticker: CRFB3 | Stock name: Carrefour Bron\n",
            "Ticker: CSAN3 | Stock name: Cosan SA\n",
            "Ticker: CSNA3 | Stock name: Cia Siderurgica Nacional\n",
            "Ticker: CVCB3 | Stock name: CVC Brasil Operadora E Agencia De Viagens SA\n",
            "Ticker: CYRE3 | Stock name: Cyrela Brazil Realty Sa Empreendimentos Participacoes\n",
            "Ticker: ECOR3 | Stock name: Ecorodovias Infraestrutura E Logistica SA\n",
            "Ticker: EGIE3 | Stock name: Engie Brasil Energia S.A.\n",
            "Ticker: ELET3 | Stock name: Centrais Eletricas Brasileiras SA\n",
            "Ticker: ELET6 | Stock name: Centrais Eletricas Brasileiras SA\n",
            "Ticker: EMBR3 | Stock name: Embraer SA\n",
            "Ticker: ENBR3 | Stock name: Edp Energias Brasil Sa\n",
            "Ticker: ENEV3 | Stock name: Eneva SA\n",
            "Ticker: ENGI11 | Stock name: Energisa Sa\n",
            "Ticker: EQTL3 | Stock name: Equatorial Energia Sa\n",
            "Ticker: EZTC3 | Stock name: Ez Tec Empreendimentos Participacoes Sa\n",
            "Ticker: FLRY3 | Stock name: Fleury SA\n",
            "Ticker: GGBR4 | Stock name: Gerdau Sa\n",
            "Ticker: GNDI3 | Stock name: Intermdica ON\n"
          ],
          "name": "stdout"
        }
      ]
    },
    {
      "cell_type": "markdown",
      "metadata": {
        "id": "EmDFiEmOntrc"
      },
      "source": [
        "O Yahoo! Finance emprega um sufixo para ações de bolsas fora dos EUA. Para as ações da Bovespa, por exemplo, aplica o sufixo **.SA** no símbolo de cada ação. Ou seja, a ação ABEV3 da Ambev é referenciada como 'ABEV3**.SA**'.\n",
        "\n",
        "**Referências:**\n",
        "\n",
        "[Exchanges and data providers on Yahoo Finance](https://help.yahoo.com/kb/SLN2310.html)\n",
        "\n",
        "[Yahoo Finance Exchanges And Suffixes](https://sites.google.com/a/stockhistoricaldata.com/stock-historical-data/yahoo-finance-suffixes)"
      ]
    },
    {
      "cell_type": "markdown",
      "metadata": {
        "id": "mYKQtJWun_Rn"
      },
      "source": [
        "**Adicionando o sufixo nos simbolos:**"
      ]
    },
    {
      "cell_type": "code",
      "metadata": {
        "colab": {
          "base_uri": "https://localhost:8080/"
        },
        "id": "4B_s8bYnoD3U",
        "outputId": "6114e0d9-bce6-4e02-f1b1-0ef329f84ac8"
      },
      "source": [
        "# ticker symbols with Bovespa's suffix \n",
        "lst_tickers = np.asarray([ '{}.SA'.format(x) for x in lst_stocks[:,0]], dtype=str)\n",
        "\n",
        "# \n",
        "for ticker in lst_tickers[1:41]:\n",
        "    print('Ticker: {}'.format(ticker))"
      ],
      "execution_count": 6,
      "outputs": [
        {
          "output_type": "stream",
          "text": [
            "Ticker: ABEV3.SA\n",
            "Ticker: ASAI3.SA\n",
            "Ticker: AZUL4.SA\n",
            "Ticker: B3SA3.SA\n",
            "Ticker: BBAS3.SA\n",
            "Ticker: BBDC3.SA\n",
            "Ticker: BBDC4.SA\n",
            "Ticker: BBSE3.SA\n",
            "Ticker: BEEF3.SA\n",
            "Ticker: BPAC11.SA\n",
            "Ticker: BRAP4.SA\n",
            "Ticker: BRDT3.SA\n",
            "Ticker: BRFS3.SA\n",
            "Ticker: BRKM5.SA\n",
            "Ticker: BRML3.SA\n",
            "Ticker: BTOW3.SA\n",
            "Ticker: CCRO3.SA\n",
            "Ticker: CIEL3.SA\n",
            "Ticker: CMIG4.SA\n",
            "Ticker: COGN3.SA\n",
            "Ticker: CPFE3.SA\n",
            "Ticker: CPLE6.SA\n",
            "Ticker: CRFB3.SA\n",
            "Ticker: CSAN3.SA\n",
            "Ticker: CSNA3.SA\n",
            "Ticker: CVCB3.SA\n",
            "Ticker: CYRE3.SA\n",
            "Ticker: ECOR3.SA\n",
            "Ticker: EGIE3.SA\n",
            "Ticker: ELET3.SA\n",
            "Ticker: ELET6.SA\n",
            "Ticker: EMBR3.SA\n",
            "Ticker: ENBR3.SA\n",
            "Ticker: ENEV3.SA\n",
            "Ticker: ENGI11.SA\n",
            "Ticker: EQTL3.SA\n",
            "Ticker: EZTC3.SA\n",
            "Ticker: FLRY3.SA\n",
            "Ticker: GGBR4.SA\n",
            "Ticker: GNDI3.SA\n"
          ],
          "name": "stdout"
        }
      ]
    },
    {
      "cell_type": "markdown",
      "metadata": {
        "id": "8PaNBbYCoDOT"
      },
      "source": [
        "**Incorporando BVMF3, Ibovespa e Dólar**<br><br>\n",
        "\n",
        "* Até 2017 a ação B3 ON tinha o símbolo BVMF3 e em 2018 passou a usar o símbolo B3SA3. Assim a BVMF3.SA será adicionada manualmente à lista de ações a serem baixadas.\n",
        "\n",
        "* O índice Bovespa (^BVSP) e a cotação do Dólar em reais (USDBRL=X) também serão adicionadas. (Perceba o prefixo '^' e o sufixo '=X' usados.)"
      ]
    },
    {
      "cell_type": "code",
      "metadata": {
        "colab": {
          "base_uri": "https://localhost:8080/"
        },
        "id": "o7ejYObEpGvt",
        "outputId": "a6e7e818-8fa5-401a-a2d7-034436e308da"
      },
      "source": [
        "# adding BVMF3.SA\n",
        "lst_tickers = np.sort(np.concatenate((lst_tickers, ['BVMF3.SA']))) # this stock changed the name to B3SA3 in 2018\n",
        "\n",
        "# adding ^BVSP and USDBRL=X\n",
        "lst_tickers = np.concatenate((lst_tickers, ['^BVSP', 'USDBRL=X'])) # this stock changed the name to B3SA3 in 2018\n",
        "\n",
        "# checking the last ones\n",
        "for ticker in lst_tickers[-2:]:\n",
        "    print('Ticker: {}'.format(ticker))\n",
        "\n",
        "# saving the list\n",
        "np.savetxt('list_tickers_yahoo.txt', lst_tickers, fmt='%s')"
      ],
      "execution_count": 7,
      "outputs": [
        {
          "output_type": "stream",
          "text": [
            "Ticker: ^BVSP\n",
            "Ticker: USDBRL=X\n"
          ],
          "name": "stdout"
        }
      ]
    },
    {
      "cell_type": "markdown",
      "metadata": {
        "id": "Mt7Qfbf9qzAt"
      },
      "source": [
        "## Baixando as séries históricas\n",
        "\n",
        "O API do Yahoo! Finance não funciona mais como antes, causando falhas no uso da biblioteca pandas_datareader.<br><br>\n",
        "\n",
        "O recente mal funcionamento com algumas APIs é descrito na página de desenvolvimento do pandas_datareader:<br><br>\n",
        "\n",
        "\n",
        "**Yahoo!, Google Options, Google Quotes and EDGAR have been immediately deprecated.**\n",
        "\n",
        "> Immediate deprecation of Yahoo!, Google Options and Quotes and EDGAR. The end points behind these APIs have radically changed and the existing readers require complete rewrites. In the case of most Yahoo! data the endpoints have been removed. PDR would like to restore these features, and pull requests are welcome.<br><br>\n",
        "\n",
        "**Existe porém uma solução temporária para isto, o [fix-yahoo-finance](https://github.com/ranaroussi/fix-yahoo-finance).**<br><br>\n",
        "\n",
        "O fix_yahoo_finance não está disponível na distribuição Anaconda, mas é possível o instalar a partir do pip:\n",
        "\n",
        "`$ pip install fix_yahoo_finance --upgrade --no-cache-dir`<br><br>\n",
        "\n",
        "**Usando o fix_yahoo_finance**\n",
        "\n",
        "Abaixo é definida uma função que utiliza o módulo fix_yahoo_finance para baixar séries históricas do API do Yahoo! Finance.<br><br>\n",
        "\n",
        "A função método download_stocks_from_yahoo recebe a lista de símbolos, baixa cada elemento da lista como DataFrame do Pandas e os salva no formato pickle na pasta indicada pela variável output_path. O nome do arquivo salvo para cada ação da lista é df_XXXXX.pickle onde XXXXX representa o símbolo da ação em questão, onde os prefixos e sufixos são removidos."
      ]
    },
    {
      "cell_type": "code",
      "metadata": {
        "id": "KxLAANf7sapU"
      },
      "source": [
        "import numpy as np\n",
        "import os\n",
        "import subprocess\n",
        "#from pandas_datareader import data as pdr\n",
        "import fix_yahoo_finance as yf\n",
        "\n",
        "# See https://github.com/ranaroussi/fix-yahoo-finance/blob/master/README.rst\n",
        "yf.pdr_override() # <== that's all it takes :-)\n",
        "\n",
        "\n",
        "def download_stocks_from_yahoo(tickers, start, end, output_path='', verbose=1):\n",
        "    '''\n",
        "    Downloads stocks from Yahoo! Finance and saves each stock as a Pandas DataFrame object \n",
        "    in the pickle data format: df_XXXXX.pickle, where XXXXX is the ticker of a particular stock.\n",
        "    \n",
        "    Prefixes and suffixes are removed from the output name.    \n",
        "    \n",
        "    \n",
        "    Inputs: \n",
        "    \n",
        "        tickers: list/array of tickers\n",
        "        start/end: datetime.datetime.date objects\n",
        "        output_path: string\n",
        "        \n",
        "    Outputs:\n",
        "        failed: list of the tickers whose download failed\n",
        "    \n",
        "    '''\n",
        "    \n",
        "    failed = []\n",
        "    \n",
        "    # creates the output folder path if it doesnt exist yet\n",
        "    command = 'mkdir -p {}'.format(output_path)\n",
        "    p = subprocess.Popen(command, shell=True, stdout=subprocess.PIPE)\n",
        "    msg, err = p.communicate()    \n",
        "    \n",
        "    \n",
        "    for ticker in tickers:\n",
        "        \n",
        "        ticker = ticker.upper()\n",
        "        \n",
        "        # deleting Yahoo's prefixes and suffixes from the name\n",
        "        stock_name = ticker.replace('^', '')\n",
        "        stock_name = stock_name.split('=')[0]\n",
        "        stock_name = stock_name.replace('.SA', '')\n",
        "        \n",
        "        # setting the full path for the output file\n",
        "        fname_output = os.path.join(output_path,'df_{}.pickle'.format(stock_name))\n",
        "       \n",
        "        try:\n",
        "            if verbose:\n",
        "                print('\\n Attempting to download {} from {} to {}.'.format(ticker, start, end))\n",
        "                \n",
        "            df = yf.download(ticker, start=start, end=end, as_panel=False)\n",
        "               \n",
        "        except:\n",
        "            failed.append(ticker)\n",
        "            print('* Unable to download {}. * \\n'.format(ticker))\n",
        "            \n",
        "        else:\n",
        "            try:\n",
        "                df.to_pickle(fname_output)\n",
        "                \n",
        "            except:\n",
        "                print('* Error when trying to save on disk {}. * \\n'.format(fname_output))     \n",
        "\n",
        "    return failed"
      ],
      "execution_count": 8,
      "outputs": []
    },
    {
      "cell_type": "markdown",
      "metadata": {
        "id": "a9hQcj4fs7Wi"
      },
      "source": [
        "**Download das ações**\n",
        "\n",
        "Serão baixadas as séries históricas das ações do período de 01/01/2001 até a data presente. Os DataFrames serao salvos no formato pickle no diretório 'raw'."
      ]
    },
    {
      "cell_type": "code",
      "metadata": {
        "id": "G0k0Gvgrs4bY"
      },
      "source": [
        "import numpy as np\n",
        "import datetime\n",
        "\n",
        "# loading the list of tickers as a np.array\n",
        "tickers = np.loadtxt('list_tickers_yahoo.txt', dtype=str)\n",
        "\n",
        "# setting the start and end dates\n",
        "start = datetime.datetime(2001, 1, 1).date()\n",
        "end = datetime.datetime.today().date()\n",
        "\n",
        "# setting folder name where dataframes will be saved\n",
        "output_path = 'raw'"
      ],
      "execution_count": 9,
      "outputs": []
    },
    {
      "cell_type": "code",
      "metadata": {
        "colab": {
          "base_uri": "https://localhost:8080/"
        },
        "id": "ZZP0JzfbtXXp",
        "outputId": "59ed46b3-bdf0-4a71-9489-88b04d02f729"
      },
      "source": [
        "# downloading list of tickers\n",
        "lst_failed = download_stocks_from_yahoo(tickers[:], start, end, output_path)"
      ],
      "execution_count": 10,
      "outputs": [
        {
          "output_type": "stream",
          "text": [
            "\n",
            " Attempting to download ABEV3.SA from 2001-01-01 to 2021-04-25.\n",
            "[*********************100%***********************]  1 of 1 downloaded\n",
            "\n",
            " Attempting to download ASAI3.SA from 2001-01-01 to 2021-04-25.\n",
            "[*********************100%***********************]  1 of 1 downloaded\n",
            "\n",
            " Attempting to download AZUL4.SA from 2001-01-01 to 2021-04-25.\n",
            "[*********************100%***********************]  1 of 1 downloaded\n",
            "\n",
            " Attempting to download B3SA3.SA from 2001-01-01 to 2021-04-25.\n",
            "[*********************100%***********************]  1 of 1 downloaded\n",
            "\n",
            " Attempting to download BBAS3.SA from 2001-01-01 to 2021-04-25.\n",
            "[*********************100%***********************]  1 of 1 downloaded\n",
            "\n",
            " Attempting to download BBDC3.SA from 2001-01-01 to 2021-04-25.\n",
            "[*********************100%***********************]  1 of 1 downloaded\n",
            "\n",
            " Attempting to download BBDC4.SA from 2001-01-01 to 2021-04-25.\n",
            "[*********************100%***********************]  1 of 1 downloaded\n",
            "\n",
            " Attempting to download BBSE3.SA from 2001-01-01 to 2021-04-25.\n",
            "[*********************100%***********************]  1 of 1 downloaded\n",
            "\n",
            " Attempting to download BEEF3.SA from 2001-01-01 to 2021-04-25.\n",
            "[*********************100%***********************]  1 of 1 downloaded\n",
            "\n",
            " Attempting to download BPAC11.SA from 2001-01-01 to 2021-04-25.\n",
            "[*********************100%***********************]  1 of 1 downloaded\n",
            "\n",
            " Attempting to download BRAP4.SA from 2001-01-01 to 2021-04-25.\n",
            "[*********************100%***********************]  1 of 1 downloaded\n",
            "\n",
            " Attempting to download BRDT3.SA from 2001-01-01 to 2021-04-25.\n",
            "[*********************100%***********************]  1 of 1 downloaded\n",
            "\n",
            " Attempting to download BRFS3.SA from 2001-01-01 to 2021-04-25.\n",
            "[*********************100%***********************]  1 of 1 downloaded\n",
            "\n",
            " Attempting to download BRKM5.SA from 2001-01-01 to 2021-04-25.\n",
            "[*********************100%***********************]  1 of 1 downloaded\n",
            "\n",
            " Attempting to download BRML3.SA from 2001-01-01 to 2021-04-25.\n",
            "[*********************100%***********************]  1 of 1 downloaded\n",
            "\n",
            " Attempting to download BTOW3.SA from 2001-01-01 to 2021-04-25.\n",
            "[*********************100%***********************]  1 of 1 downloaded\n",
            "\n",
            " Attempting to download BVMF3.SA from 2001-01-01 to 2021-04-25.\n",
            "[*********************100%***********************]  1 of 1 downloaded\n",
            "* Unable to download BVMF3.SA. * \n",
            "\n",
            "\n",
            " Attempting to download CCRO3.SA from 2001-01-01 to 2021-04-25.\n",
            "[*********************100%***********************]  1 of 1 downloaded\n",
            "\n",
            " Attempting to download CIEL3.SA from 2001-01-01 to 2021-04-25.\n",
            "[*********************100%***********************]  1 of 1 downloaded\n",
            "\n",
            " Attempting to download CMIG4.SA from 2001-01-01 to 2021-04-25.\n",
            "[*********************100%***********************]  1 of 1 downloaded\n",
            "\n",
            " Attempting to download COGN3.SA from 2001-01-01 to 2021-04-25.\n",
            "[*********************100%***********************]  1 of 1 downloaded\n",
            "\n",
            " Attempting to download CPFE3.SA from 2001-01-01 to 2021-04-25.\n",
            "[*********************100%***********************]  1 of 1 downloaded\n",
            "\n",
            " Attempting to download CPLE6.SA from 2001-01-01 to 2021-04-25.\n",
            "[*********************100%***********************]  1 of 1 downloaded\n",
            "\n",
            " Attempting to download CRFB3.SA from 2001-01-01 to 2021-04-25.\n",
            "[*********************100%***********************]  1 of 1 downloaded\n",
            "\n",
            " Attempting to download CSAN3.SA from 2001-01-01 to 2021-04-25.\n",
            "[*********************100%***********************]  1 of 1 downloaded\n",
            "\n",
            " Attempting to download CSNA3.SA from 2001-01-01 to 2021-04-25.\n",
            "[*********************100%***********************]  1 of 1 downloaded\n",
            "\n",
            " Attempting to download CVCB3.SA from 2001-01-01 to 2021-04-25.\n",
            "[*********************100%***********************]  1 of 1 downloaded\n",
            "\n",
            " Attempting to download CYRE3.SA from 2001-01-01 to 2021-04-25.\n",
            "[*********************100%***********************]  1 of 1 downloaded\n",
            "\n",
            " Attempting to download ECOR3.SA from 2001-01-01 to 2021-04-25.\n",
            "[*********************100%***********************]  1 of 1 downloaded\n",
            "\n",
            " Attempting to download EGIE3.SA from 2001-01-01 to 2021-04-25.\n",
            "[*********************100%***********************]  1 of 1 downloaded\n",
            "\n",
            " Attempting to download ELET3.SA from 2001-01-01 to 2021-04-25.\n",
            "[*********************100%***********************]  1 of 1 downloaded\n",
            "\n",
            " Attempting to download ELET6.SA from 2001-01-01 to 2021-04-25.\n",
            "[*********************100%***********************]  1 of 1 downloaded\n",
            "\n",
            " Attempting to download EMBR3.SA from 2001-01-01 to 2021-04-25.\n",
            "[*********************100%***********************]  1 of 1 downloaded\n",
            "\n",
            " Attempting to download ENBR3.SA from 2001-01-01 to 2021-04-25.\n",
            "[*********************100%***********************]  1 of 1 downloaded\n",
            "\n",
            " Attempting to download ENEV3.SA from 2001-01-01 to 2021-04-25.\n",
            "[*********************100%***********************]  1 of 1 downloaded\n",
            "\n",
            " Attempting to download ENGI11.SA from 2001-01-01 to 2021-04-25.\n",
            "[*********************100%***********************]  1 of 1 downloaded\n",
            "\n",
            " Attempting to download EQTL3.SA from 2001-01-01 to 2021-04-25.\n",
            "[*********************100%***********************]  1 of 1 downloaded\n",
            "\n",
            " Attempting to download EZTC3.SA from 2001-01-01 to 2021-04-25.\n",
            "[*********************100%***********************]  1 of 1 downloaded\n",
            "\n",
            " Attempting to download FLRY3.SA from 2001-01-01 to 2021-04-25.\n",
            "[*********************100%***********************]  1 of 1 downloaded\n",
            "\n",
            " Attempting to download GGBR4.SA from 2001-01-01 to 2021-04-25.\n",
            "[*********************100%***********************]  1 of 1 downloaded\n",
            "\n",
            " Attempting to download GNDI3.SA from 2001-01-01 to 2021-04-25.\n",
            "[*********************100%***********************]  1 of 1 downloaded\n",
            "\n",
            " Attempting to download IBOV/COTACAO?JAVA=1\"NOFOLLOW.SA from 2001-01-01 to 2021-04-25.\n",
            "[*********************100%***********************]  1 of 1 downloaded\n",
            "* Unable to download IBOV/COTACAO?JAVA=1\"NOFOLLOW.SA. * \n",
            "\n",
            "\n",
            " Attempting to download ^BVSP from 2001-01-01 to 2021-04-25.\n",
            "[*********************100%***********************]  1 of 1 downloaded\n",
            "\n",
            " Attempting to download USDBRL=X from 2001-01-01 to 2021-04-25.\n",
            "[*********************100%***********************]  1 of 1 downloaded\n"
          ],
          "name": "stdout"
        }
      ]
    },
    {
      "cell_type": "code",
      "metadata": {
        "colab": {
          "base_uri": "https://localhost:8080/"
        },
        "id": "Gd9eXHx-tg5m",
        "outputId": "aae62633-3167-4e89-9f95-8104eef53088"
      },
      "source": [
        "# Checking for errors\n",
        "\n",
        "if len(lst_failed) > 0:\n",
        "    print('Unable to download the following stocks:')\n",
        "    print(lst_failed)\n",
        "    \n",
        "    #print('\\n Trying one more time:')\n",
        "    #lst_failed = download_stocks_from_yahoo(lst_failed, start, end, output_path)\n",
        "\n",
        "else:\n",
        "    print('All tickers downloaded successfully')"
      ],
      "execution_count": 11,
      "outputs": [
        {
          "output_type": "stream",
          "text": [
            "Unable to download the following stocks:\n",
            "['BVMF3.SA', 'IBOV/COTACAO?JAVA=1\"NOFOLLOW.SA']\n"
          ],
          "name": "stdout"
        }
      ]
    },
    {
      "cell_type": "markdown",
      "metadata": {
        "id": "_H317MqRuFmp"
      },
      "source": [
        "**Concatenação da BVMF3 e B3SA3 (opcional)**\n",
        "\n",
        "Como comentado anteriormente, esta ação mudou de nome em 2018. Neste passo, os DataFrames correspondentes a estas ações serão concatenados em um novo que será salvo em disco."
      ]
    },
    {
      "cell_type": "code",
      "metadata": {
        "colab": {
          "base_uri": "https://localhost:8080/",
          "height": 252
        },
        "id": "1Z_cjl4VuDDa",
        "outputId": "7fc6c2bd-e68b-43a6-a45f-2e27d9baca70"
      },
      "source": [
        "import pandas as pd\n",
        "import os\n",
        "\n",
        "picklepath = os.path.join(output_path, 'df_{}.pickle')\n",
        "\n",
        "#df1 = pd.read_pickle( picklepath.format('BVMF3') )\n",
        "df2 = pd.read_pickle( picklepath.format('B3SA3') )\n",
        "\n",
        "#\n",
        "#print(df1.shape, df2.shape)\n",
        "\n",
        "print(df2.shape)\n",
        "\n",
        "df2.tail()"
      ],
      "execution_count": 12,
      "outputs": [
        {
          "output_type": "stream",
          "text": [
            "(3334, 6)\n"
          ],
          "name": "stdout"
        },
        {
          "output_type": "execute_result",
          "data": {
            "text/html": [
              "<div>\n",
              "<style scoped>\n",
              "    .dataframe tbody tr th:only-of-type {\n",
              "        vertical-align: middle;\n",
              "    }\n",
              "\n",
              "    .dataframe tbody tr th {\n",
              "        vertical-align: top;\n",
              "    }\n",
              "\n",
              "    .dataframe thead th {\n",
              "        text-align: right;\n",
              "    }\n",
              "</style>\n",
              "<table border=\"1\" class=\"dataframe\">\n",
              "  <thead>\n",
              "    <tr style=\"text-align: right;\">\n",
              "      <th></th>\n",
              "      <th>Open</th>\n",
              "      <th>High</th>\n",
              "      <th>Low</th>\n",
              "      <th>Close</th>\n",
              "      <th>Adj Close</th>\n",
              "      <th>Volume</th>\n",
              "    </tr>\n",
              "    <tr>\n",
              "      <th>Date</th>\n",
              "      <th></th>\n",
              "      <th></th>\n",
              "      <th></th>\n",
              "      <th></th>\n",
              "      <th></th>\n",
              "      <th></th>\n",
              "    </tr>\n",
              "  </thead>\n",
              "  <tbody>\n",
              "    <tr>\n",
              "      <th>2021-04-16</th>\n",
              "      <td>54.480000</td>\n",
              "      <td>55.790001</td>\n",
              "      <td>54.330002</td>\n",
              "      <td>55.400002</td>\n",
              "      <td>55.400002</td>\n",
              "      <td>12728100</td>\n",
              "    </tr>\n",
              "    <tr>\n",
              "      <th>2021-04-19</th>\n",
              "      <td>55.419998</td>\n",
              "      <td>55.560001</td>\n",
              "      <td>54.360001</td>\n",
              "      <td>54.360001</td>\n",
              "      <td>54.360001</td>\n",
              "      <td>11616000</td>\n",
              "    </tr>\n",
              "    <tr>\n",
              "      <th>2021-04-20</th>\n",
              "      <td>54.099998</td>\n",
              "      <td>54.380001</td>\n",
              "      <td>53.529999</td>\n",
              "      <td>53.720001</td>\n",
              "      <td>53.720001</td>\n",
              "      <td>10378500</td>\n",
              "    </tr>\n",
              "    <tr>\n",
              "      <th>2021-04-22</th>\n",
              "      <td>53.950001</td>\n",
              "      <td>54.500000</td>\n",
              "      <td>53.349998</td>\n",
              "      <td>53.349998</td>\n",
              "      <td>53.349998</td>\n",
              "      <td>10763500</td>\n",
              "    </tr>\n",
              "    <tr>\n",
              "      <th>2021-04-23</th>\n",
              "      <td>53.700001</td>\n",
              "      <td>54.840000</td>\n",
              "      <td>53.529999</td>\n",
              "      <td>53.720001</td>\n",
              "      <td>53.720001</td>\n",
              "      <td>9376900</td>\n",
              "    </tr>\n",
              "  </tbody>\n",
              "</table>\n",
              "</div>"
            ],
            "text/plain": [
              "                 Open       High        Low      Close  Adj Close    Volume\n",
              "Date                                                                       \n",
              "2021-04-16  54.480000  55.790001  54.330002  55.400002  55.400002  12728100\n",
              "2021-04-19  55.419998  55.560001  54.360001  54.360001  54.360001  11616000\n",
              "2021-04-20  54.099998  54.380001  53.529999  53.720001  53.720001  10378500\n",
              "2021-04-22  53.950001  54.500000  53.349998  53.349998  53.349998  10763500\n",
              "2021-04-23  53.700001  54.840000  53.529999  53.720001  53.720001   9376900"
            ]
          },
          "metadata": {
            "tags": []
          },
          "execution_count": 12
        }
      ]
    },
    {
      "cell_type": "code",
      "metadata": {
        "colab": {
          "base_uri": "https://localhost:8080/"
        },
        "id": "raHZlyufusmH",
        "outputId": "94dfd3f5-964e-4f74-c7f4-febb6c500342"
      },
      "source": [
        "#df3 = pd.concat([df1, df2], axis=0)\n",
        "\n",
        "#print(df1.shape, df2.shape, df3.shape)\n",
        "\n",
        "#print(df3.columns)\n",
        "\n",
        "print(df2.columns)"
      ],
      "execution_count": 13,
      "outputs": [
        {
          "output_type": "stream",
          "text": [
            "Index(['Open', 'High', 'Low', 'Close', 'Adj Close', 'Volume'], dtype='object')\n"
          ],
          "name": "stdout"
        }
      ]
    },
    {
      "cell_type": "code",
      "metadata": {
        "id": "xnMpN-FJuSRz"
      },
      "source": [
        "#df3.tail() # there are few days missing\n",
        "\n",
        "df2.tail() # there are few days missing\n",
        "\n",
        "# re-writing on disk\n",
        "#df3.to_pickle(picklepath.format('B3SA3'))\n",
        "\n",
        "df2.to_pickle(picklepath.format('B3SA3'))\n",
        "\n",
        "# deleting from disk\n",
        "#status = os.system('rm -f {}'.format(picklepath.format('BVMF3')))"
      ],
      "execution_count": 14,
      "outputs": []
    },
    {
      "cell_type": "markdown",
      "metadata": {
        "id": "674YARVbw_Lr"
      },
      "source": [
        "## Carrengando os dados (Loading the data)\n",
        "\n",
        "Os dados serão armazenados em dois dataframes:\n",
        "\n",
        "* **df_stocks**: all the stocks\n",
        "* **df_bench**: only the benchmarks"
      ]
    },
    {
      "cell_type": "markdown",
      "metadata": {
        "id": "z8WEdjksxbqe"
      },
      "source": [
        "1. Importando Bibliotecas"
      ]
    },
    {
      "cell_type": "code",
      "metadata": {
        "id": "tI2Wre-Fw2mO"
      },
      "source": [
        "import pandas as pd\n",
        "import numpy as np\n",
        "import matplotlib.pyplot as plt\n",
        "import datetime\n",
        "import dateutil\n",
        "import glob\n",
        "import os"
      ],
      "execution_count": 15,
      "outputs": []
    },
    {
      "cell_type": "markdown",
      "metadata": {
        "id": "8ZweHXqew_jZ"
      },
      "source": [
        "2. Listando dataframes previamente armazenados"
      ]
    },
    {
      "cell_type": "code",
      "metadata": {
        "id": "v8AHAE44w_5x"
      },
      "source": [
        "# listing pandas dataframes previously saved\n",
        "lst_df_path = glob.glob(os.path.join('/content/raw', 'df_*.pickle'))\n"
      ],
      "execution_count": 16,
      "outputs": []
    },
    {
      "cell_type": "code",
      "metadata": {
        "id": "pYQLIq5gxAjh",
        "colab": {
          "base_uri": "https://localhost:8080/"
        },
        "outputId": "6b03a668-c050-4a04-ee5c-58aee79c67e7"
      },
      "source": [
        "# checking the path and file names\n",
        "#lst_df_path[:3]\n",
        "lst_df_path[:]"
      ],
      "execution_count": 17,
      "outputs": [
        {
          "output_type": "execute_result",
          "data": {
            "text/plain": [
              "['/content/raw/df_ELET3.pickle',\n",
              " '/content/raw/df_ENBR3.pickle',\n",
              " '/content/raw/df_GNDI3.pickle',\n",
              " '/content/raw/df_CSNA3.pickle',\n",
              " '/content/raw/df_EMBR3.pickle',\n",
              " '/content/raw/df_ECOR3.pickle',\n",
              " '/content/raw/df_COGN3.pickle',\n",
              " '/content/raw/df_BRKM5.pickle',\n",
              " '/content/raw/df_ENGI11.pickle',\n",
              " '/content/raw/df_BRML3.pickle',\n",
              " '/content/raw/df_USDBRL.pickle',\n",
              " '/content/raw/df_EZTC3.pickle',\n",
              " '/content/raw/df_BBDC4.pickle',\n",
              " '/content/raw/df_CVCB3.pickle',\n",
              " '/content/raw/df_CSAN3.pickle',\n",
              " '/content/raw/df_ASAI3.pickle',\n",
              " '/content/raw/df_AZUL4.pickle',\n",
              " '/content/raw/df_CRFB3.pickle',\n",
              " '/content/raw/df_BBAS3.pickle',\n",
              " '/content/raw/df_CYRE3.pickle',\n",
              " '/content/raw/df_BEEF3.pickle',\n",
              " '/content/raw/df_ABEV3.pickle',\n",
              " '/content/raw/df_BBDC3.pickle',\n",
              " '/content/raw/df_ENEV3.pickle',\n",
              " '/content/raw/df_BRDT3.pickle',\n",
              " '/content/raw/df_FLRY3.pickle',\n",
              " '/content/raw/df_EQTL3.pickle',\n",
              " '/content/raw/df_CIEL3.pickle',\n",
              " '/content/raw/df_CMIG4.pickle',\n",
              " '/content/raw/df_BBSE3.pickle',\n",
              " '/content/raw/df_BRFS3.pickle',\n",
              " '/content/raw/df_CCRO3.pickle',\n",
              " '/content/raw/df_BVSP.pickle',\n",
              " '/content/raw/df_CPLE6.pickle',\n",
              " '/content/raw/df_ELET6.pickle',\n",
              " '/content/raw/df_CPFE3.pickle',\n",
              " '/content/raw/df_BTOW3.pickle',\n",
              " '/content/raw/df_B3SA3.pickle',\n",
              " '/content/raw/df_BPAC11.pickle',\n",
              " '/content/raw/df_GGBR4.pickle',\n",
              " '/content/raw/df_BRAP4.pickle',\n",
              " '/content/raw/df_EGIE3.pickle']"
            ]
          },
          "metadata": {
            "tags": []
          },
          "execution_count": 17
        }
      ]
    },
    {
      "cell_type": "code",
      "metadata": {
        "id": "9vExDHzeyBEm"
      },
      "source": [
        "# remove the ticker that will be used for Benchmarks later\n",
        "lst_df_path.remove('/content/raw/df_BVSP.pickle')\n",
        "lst_df_path.remove('/content/raw/df_USDBRL.pickle')"
      ],
      "execution_count": 18,
      "outputs": []
    },
    {
      "cell_type": "code",
      "metadata": {
        "id": "bgxcdpF9ySIf"
      },
      "source": [
        "# creating a separed list for the Benchmarks\n",
        "lst_df_path_bench = ['/content/raw/df_BVSP.pickle', '/content/raw/df_USDBRL.pickle']"
      ],
      "execution_count": 19,
      "outputs": []
    },
    {
      "cell_type": "code",
      "metadata": {
        "colab": {
          "base_uri": "https://localhost:8080/"
        },
        "id": "F8La_mRevgwu",
        "outputId": "9768bd65-a13f-42b9-fd14-93508316f80d"
      },
      "source": [
        "lst_df_path_bench[:]"
      ],
      "execution_count": 20,
      "outputs": [
        {
          "output_type": "execute_result",
          "data": {
            "text/plain": [
              "['/content/raw/df_BVSP.pickle', '/content/raw/df_USDBRL.pickle']"
            ]
          },
          "metadata": {
            "tags": []
          },
          "execution_count": 20
        }
      ]
    },
    {
      "cell_type": "code",
      "metadata": {
        "id": "zBzcS1IzyUlR"
      },
      "source": [
        "# concatenating all stocks into one dataframe\n",
        "lst_df_stocks = []\n",
        "\n",
        "for fname in lst_df_path:\n",
        "    df = pd.read_pickle(fname)\n",
        "    # keeping only Adj Close\n",
        "    df.drop(columns=['Open', 'High', 'Low', 'Close', 'Volume'], inplace=True)\n",
        "    ticker = fname.split('/content/raw/')[1].split('df_')[1].split('.')[0] \n",
        "    df.columns = [ticker]\n",
        "    lst_df_stocks.append(df)\n",
        "    \n",
        "df_stocks = pd.concat(lst_df_stocks, axis=1)"
      ],
      "execution_count": 21,
      "outputs": []
    },
    {
      "cell_type": "code",
      "metadata": {
        "id": "Byq4JsIYyWzt"
      },
      "source": [
        "df_stocks = pd.concat(lst_df_stocks, axis=1)"
      ],
      "execution_count": 22,
      "outputs": []
    },
    {
      "cell_type": "code",
      "metadata": {
        "id": "ie2cw3C7yZGn",
        "colab": {
          "base_uri": "https://localhost:8080/"
        },
        "outputId": "399de68b-5a89-4e0e-d652-9e0e9a7ebfd1"
      },
      "source": [
        "# checking column names\n",
        "df_stocks.columns"
      ],
      "execution_count": 23,
      "outputs": [
        {
          "output_type": "execute_result",
          "data": {
            "text/plain": [
              "Index(['ELET3', 'ENBR3', 'GNDI3', 'CSNA3', 'EMBR3', 'ECOR3', 'COGN3', 'BRKM5',\n",
              "       'ENGI11', 'BRML3', 'EZTC3', 'BBDC4', 'CVCB3', 'CSAN3', 'ASAI3', 'AZUL4',\n",
              "       'CRFB3', 'BBAS3', 'CYRE3', 'BEEF3', 'ABEV3', 'BBDC3', 'ENEV3', 'BRDT3',\n",
              "       'FLRY3', 'EQTL3', 'CIEL3', 'CMIG4', 'BBSE3', 'BRFS3', 'CCRO3', 'CPLE6',\n",
              "       'ELET6', 'CPFE3', 'BTOW3', 'B3SA3', 'BPAC11', 'GGBR4', 'BRAP4',\n",
              "       'EGIE3'],\n",
              "      dtype='object')"
            ]
          },
          "metadata": {
            "tags": []
          },
          "execution_count": 23
        }
      ]
    },
    {
      "cell_type": "code",
      "metadata": {
        "id": "lD-6M7UiydhW"
      },
      "source": [
        "# concatenating the benchmarks into one dataframe\n",
        "lst_df_bench = []\n",
        "\n",
        "for fname in lst_df_path_bench:\n",
        "    df = pd.read_pickle(fname)\n",
        "    # keeping only Adj Close\n",
        "    df.drop(columns=['Open', 'High', 'Low', 'Close', 'Volume'], inplace=True)\n",
        "    ticker = fname.split('/content/raw/')[1].split('df_')[1].split('.')[0] \n",
        "    df.columns = [ticker]\n",
        "    lst_df_bench.append(df)\n",
        "    \n",
        "df_bench = pd.concat(lst_df_bench, axis=1)"
      ],
      "execution_count": 24,
      "outputs": []
    },
    {
      "cell_type": "code",
      "metadata": {
        "id": "SHBGJ297ygV9",
        "colab": {
          "base_uri": "https://localhost:8080/"
        },
        "outputId": "c961b3b3-7f9a-44f1-e808-de195429e16b"
      },
      "source": [
        "df_bench.columns"
      ],
      "execution_count": 25,
      "outputs": [
        {
          "output_type": "execute_result",
          "data": {
            "text/plain": [
              "Index(['BVSP', 'USDBRL'], dtype='object')"
            ]
          },
          "metadata": {
            "tags": []
          },
          "execution_count": 25
        }
      ]
    },
    {
      "cell_type": "code",
      "metadata": {
        "id": "oiUquaeKyhV_",
        "colab": {
          "base_uri": "https://localhost:8080/",
          "height": 235
        },
        "outputId": "c6a7dd80-8c12-4839-86a0-472398e6e132"
      },
      "source": [
        "df_bench.head()"
      ],
      "execution_count": 26,
      "outputs": [
        {
          "output_type": "execute_result",
          "data": {
            "text/html": [
              "<div>\n",
              "<style scoped>\n",
              "    .dataframe tbody tr th:only-of-type {\n",
              "        vertical-align: middle;\n",
              "    }\n",
              "\n",
              "    .dataframe tbody tr th {\n",
              "        vertical-align: top;\n",
              "    }\n",
              "\n",
              "    .dataframe thead th {\n",
              "        text-align: right;\n",
              "    }\n",
              "</style>\n",
              "<table border=\"1\" class=\"dataframe\">\n",
              "  <thead>\n",
              "    <tr style=\"text-align: right;\">\n",
              "      <th></th>\n",
              "      <th>BVSP</th>\n",
              "      <th>USDBRL</th>\n",
              "    </tr>\n",
              "    <tr>\n",
              "      <th>Date</th>\n",
              "      <th></th>\n",
              "      <th></th>\n",
              "    </tr>\n",
              "  </thead>\n",
              "  <tbody>\n",
              "    <tr>\n",
              "      <th>2001-01-02</th>\n",
              "      <td>15425.0</td>\n",
              "      <td>NaN</td>\n",
              "    </tr>\n",
              "    <tr>\n",
              "      <th>2001-01-03</th>\n",
              "      <td>16599.0</td>\n",
              "      <td>NaN</td>\n",
              "    </tr>\n",
              "    <tr>\n",
              "      <th>2001-01-04</th>\n",
              "      <td>16675.0</td>\n",
              "      <td>NaN</td>\n",
              "    </tr>\n",
              "    <tr>\n",
              "      <th>2001-01-05</th>\n",
              "      <td>16410.0</td>\n",
              "      <td>NaN</td>\n",
              "    </tr>\n",
              "    <tr>\n",
              "      <th>2001-01-08</th>\n",
              "      <td>16562.0</td>\n",
              "      <td>NaN</td>\n",
              "    </tr>\n",
              "  </tbody>\n",
              "</table>\n",
              "</div>"
            ],
            "text/plain": [
              "               BVSP  USDBRL\n",
              "Date                       \n",
              "2001-01-02  15425.0     NaN\n",
              "2001-01-03  16599.0     NaN\n",
              "2001-01-04  16675.0     NaN\n",
              "2001-01-05  16410.0     NaN\n",
              "2001-01-08  16562.0     NaN"
            ]
          },
          "metadata": {
            "tags": []
          },
          "execution_count": 26
        }
      ]
    },
    {
      "cell_type": "markdown",
      "metadata": {
        "id": "zw0iLfokxBA_"
      },
      "source": [
        "## Portfólio Otimizado Mensal\n",
        "\n",
        "O objetivo é compor uma carteira com bom desempenho utilizando apenas uma pequena quantidade de ações da lista.\n",
        "\n",
        "A cada mês será elaborada uma nova carteira com base no Índice Sharpe dos meses anteriores, e seu desempenho será comparado com três benchmarks:\n",
        "\n",
        "* iBovespa: Índice oficial da Bovespa (composto por +60 ações)\n",
        "\n",
        "* Média BVSP: média simples de todas as ações disponíveis da iBovespa\n",
        "\n",
        "* Dolar: O valor atual dos dólares americanos em reais\n",
        "\n",
        "**Restrições adicionais ao portfólio:**\n",
        "\n",
        "O peso máximo de uma ação é de 25%\n",
        "O peso mínimo de uma ação é 2%\n",
        "\n",
        "**Resultados esperados:**\n",
        "\n",
        "* desempenho aprimorado no longo prazo\n",
        "* maior volatilidade que o iBovespa, devido ao pequeno número de ações que compõem a carteira\n",
        "\n",
        "**Configurando a otimização**\n",
        "\n",
        "*Baseado no curso Udemy de Jose Portilla em [Python para algoritmo financeiro e comercial.](https://www.udemy.com/python-for-finance-and-trading-algorithms/learn/v4/)*"
      ]
    },
    {
      "cell_type": "code",
      "metadata": {
        "id": "yRUArlKVxBUr"
      },
      "source": [
        "from scipy.optimize import minimize"
      ],
      "execution_count": 27,
      "outputs": []
    },
    {
      "cell_type": "code",
      "metadata": {
        "id": "oPzVVzYAobk9"
      },
      "source": [
        "# utility function to obtain the expected Return, expected Volatity, and Sharpe Ration from the log returns, given the weights\n",
        "def get_ret_vol_sr(weights):\n",
        "    global log_ret\n",
        "    weights = np.array(weights)    \n",
        "    ret = np.sum( log_ret.mean() * weights * 252)\n",
        "    vol = np.sqrt( np.dot(weights.T, np.dot(log_ret.cov()*252, weights)))\n",
        "    sr = ret/vol\n",
        "    return np.array([ret, vol, sr])"
      ],
      "execution_count": 28,
      "outputs": []
    },
    {
      "cell_type": "code",
      "metadata": {
        "id": "P5lY2a6Cocnh"
      },
      "source": [
        "# the actual function to be minimized\n",
        "def neg_sharpe(weights):\n",
        "    return -1.*get_ret_vol_sr(weights)[2]"
      ],
      "execution_count": 29,
      "outputs": []
    },
    {
      "cell_type": "code",
      "metadata": {
        "id": "ByzTjpbEogum"
      },
      "source": [
        "# contraint function\n",
        "def check_sum(weights):\n",
        "    return np.sum(weights) - 1."
      ],
      "execution_count": 30,
      "outputs": []
    },
    {
      "cell_type": "code",
      "metadata": {
        "id": "wOVOdhSLoipS"
      },
      "source": [
        "# contraint function\n",
        "def check_max_weight(weights):\n",
        "    global max_weight\n",
        "    return np.minimum(weights.max(), max_weight) - weights.max()"
      ],
      "execution_count": 31,
      "outputs": []
    },
    {
      "cell_type": "code",
      "metadata": {
        "id": "0VVWYsXZokVh"
      },
      "source": [
        "# contraint function\n",
        "def check_weights(weights):\n",
        "    global max_weight\n",
        "    w1 = np.sum(weights) - 1.\n",
        "    w2 = np.minimum(weights.max(), max_weight) - weights.max()\n",
        "    return np.abs(w1) + np.abs(w2)"
      ],
      "execution_count": 32,
      "outputs": []
    },
    {
      "cell_type": "code",
      "metadata": {
        "id": "YkBr7YIWomJc"
      },
      "source": [
        "# constraint tuple\n",
        "#cons = ({'type' : 'eq', 'fun' : check_sum})\n",
        "#cons = ({'type' : 'eq', 'fun' : check_sum}, {'type' : 'eq', 'fun' : check_max_weight}) # did not work\n",
        "cons = ({'type' : 'eq', 'fun' : check_weights}) # using this workaround instead"
      ],
      "execution_count": 33,
      "outputs": []
    },
    {
      "cell_type": "code",
      "metadata": {
        "id": "9rp2cX83onma"
      },
      "source": [
        "n_stocks = df_stocks.shape[1]"
      ],
      "execution_count": 34,
      "outputs": []
    },
    {
      "cell_type": "code",
      "metadata": {
        "id": "qscX04Z8ooB6"
      },
      "source": [
        "bounds = tuple([(0,1) for i in range(n_stocks)])"
      ],
      "execution_count": 35,
      "outputs": []
    },
    {
      "cell_type": "code",
      "metadata": {
        "id": "5eJXj1B4opwi"
      },
      "source": [
        "init_guess = np.ones(n_stocks) / n_stocks"
      ],
      "execution_count": 36,
      "outputs": []
    },
    {
      "cell_type": "markdown",
      "metadata": {
        "id": "-Ep3QM3kow23"
      },
      "source": [
        "## Definir parâmetros de previsão"
      ]
    },
    {
      "cell_type": "code",
      "metadata": {
        "id": "x8WGdb1zorgr"
      },
      "source": [
        "# the start date of the fist prediction (year, month, day)\n",
        "day_start = datetime.datetime(2020,1,1).date()\n",
        "\n",
        "# total number of months to run the prediction\n",
        "n_months_run = 16\n",
        "\n",
        "# training months before current prediction\n",
        "n_months_train = 12\n",
        "\n",
        "# portfolio weights (before re-balancing)\n",
        "max_weight = 0.25  # used in the constraint function\n",
        "min_weight = 0.02  # used in the running prediction"
      ],
      "execution_count": 37,
      "outputs": []
    },
    {
      "cell_type": "markdown",
      "metadata": {
        "id": "-b6uPwH-o1qg"
      },
      "source": [
        "# Previsão mensal em execução"
      ]
    },
    {
      "cell_type": "code",
      "metadata": {
        "id": "OJ0ZL3zno53L",
        "colab": {
          "base_uri": "https://localhost:8080/"
        },
        "outputId": "53943a72-37e9-4fa7-ec33-b7798c183415"
      },
      "source": [
        "delta_month = dateutil.relativedelta.relativedelta(months=+1)\n",
        "delta_day = dateutil.relativedelta.relativedelta(days=+1)\n",
        "\n",
        "valid_start = day_start\n",
        "valid_end = valid_start + delta_month - delta_day\n",
        "\n",
        "train_start = valid_start - n_months_train*delta_month\n",
        "train_end = valid_start - delta_day\n",
        "\n",
        "time = []\n",
        "p = []\n",
        "b1 = []\n",
        "b2 = []\n",
        "b3 = []\n",
        "\n",
        "\n",
        "#\n",
        "for i in range(n_months_run):\n",
        "    \n",
        "    # dataframes\n",
        "    df_train = df_stocks.truncate(before=train_start, after=train_end)\n",
        "    df_valid = df_stocks.truncate(before=valid_start, after=valid_end)\n",
        "    df_valid_bench = df_bench.truncate(before=valid_start, after=valid_end)\n",
        "    \n",
        "    # calculating log returns of the training data\n",
        "    log_ret = np.log( df_train.divide(df_train.shift(1, axis=0), axis=0) ).iloc[2:]\n",
        "    # notice that log_ret is used by the function `get_ret_vol_sr` and, consequently,\n",
        "    # the `neg_sharpe` function    \n",
        "      \n",
        "    \n",
        "    # calculating optimized weights\n",
        "    opt_results = minimize(neg_sharpe, init_guess, method='SLSQP', bounds=bounds, constraints=cons)\n",
        "    \n",
        "    weights = opt_results.x\n",
        "    \n",
        "    \n",
        "    # Weight Re-balancing\n",
        "    idx = np.where(opt_results.x>=min_weight)[0]\n",
        "    weights = weights[idx]\n",
        "    weights /= weights.sum()\n",
        "    \n",
        "    labels = log_ret.columns[idx]\n",
        "    \n",
        "    # using the portfolio weights on the validation data\n",
        "    df1 = df_valid[labels]\n",
        "    df1 = df1/df1.iloc[0] # percentage return of the portfolio\n",
        "    df2 = (df1 * weights).sum(axis=1)\n",
        "    df2 = df2/df2.iloc[0] # percentage return of the portfolio\n",
        "    \n",
        "    # percentage return of the benchmarks\n",
        "    df2b = df_valid_bench/df_valid_bench.iloc[0]\n",
        "    \n",
        "    time.append(valid_start.strftime('%Y/%m'))\n",
        "    p.append(df2.iloc[-1])\n",
        "    b1.append(df2b['BVSP'].iloc[-1])\n",
        "    b2.append(df2b['USDBRL'].iloc[-1])\n",
        "    b3.append(df1.mean(axis=1).iloc[-1]) # Simple average of all stocks\n",
        "    \n",
        "    print('\\nStart: {}, Portfolio: {:.2f}, iBovespa: {:.2f}, Dolar: {:.2f}, Avg. : {:.2f}'.format(time[-1], p[-1],\n",
        "                                                                                                 b1[-1], b2[-1], b3[-1]))\n",
        "    \n",
        "    for l,w in zip(labels, weights):\n",
        "        print('  > {} : {:.2f}'.format(l, w))\n",
        "\n",
        "    \n",
        "    # time update for the next loop\n",
        "    valid_start += delta_month\n",
        "    valid_end  = valid_start + delta_month - delta_day\n",
        "    \n",
        "    train_start += delta_month\n",
        "    train_end = valid_start - delta_day"
      ],
      "execution_count": 38,
      "outputs": [
        {
          "output_type": "stream",
          "text": [
            "\n",
            "Start: 2020/01, Portfolio: 0.98, iBovespa: nan, Dolar: 1.06, Avg. : 0.98\n",
            "  > ELET3 : 0.03\n",
            "  > ENBR3 : 0.03\n",
            "  > GNDI3 : 0.03\n",
            "  > CSNA3 : 0.03\n",
            "  > EMBR3 : 0.03\n",
            "  > ECOR3 : 0.03\n",
            "  > COGN3 : 0.03\n",
            "  > BRKM5 : 0.03\n",
            "  > ENGI11 : 0.03\n",
            "  > BRML3 : 0.03\n",
            "  > EZTC3 : 0.03\n",
            "  > BBDC4 : 0.03\n",
            "  > CVCB3 : 0.03\n",
            "  > CSAN3 : 0.03\n",
            "  > ASAI3 : 0.03\n",
            "  > AZUL4 : 0.03\n",
            "  > CRFB3 : 0.03\n",
            "  > BBAS3 : 0.03\n",
            "  > CYRE3 : 0.03\n",
            "  > BEEF3 : 0.03\n",
            "  > ABEV3 : 0.03\n",
            "  > BBDC3 : 0.03\n",
            "  > ENEV3 : 0.03\n",
            "  > BRDT3 : 0.03\n",
            "  > FLRY3 : 0.03\n",
            "  > EQTL3 : 0.03\n",
            "  > CIEL3 : 0.03\n",
            "  > CMIG4 : 0.03\n",
            "  > BBSE3 : 0.03\n",
            "  > BRFS3 : 0.03\n",
            "  > CCRO3 : 0.03\n",
            "  > CPLE6 : 0.03\n",
            "  > ELET6 : 0.03\n",
            "  > CPFE3 : 0.03\n",
            "  > BTOW3 : 0.03\n",
            "  > B3SA3 : 0.03\n",
            "  > BPAC11 : 0.03\n",
            "  > GGBR4 : 0.03\n",
            "  > BRAP4 : 0.03\n",
            "  > EGIE3 : 0.03\n",
            "\n",
            "Start: 2020/02, Portfolio: 0.89, iBovespa: 0.91, Dolar: 1.05, Avg. : 0.89\n",
            "  > ELET3 : 0.03\n",
            "  > ENBR3 : 0.03\n",
            "  > GNDI3 : 0.03\n",
            "  > CSNA3 : 0.03\n",
            "  > EMBR3 : 0.03\n",
            "  > ECOR3 : 0.03\n",
            "  > COGN3 : 0.03\n",
            "  > BRKM5 : 0.03\n",
            "  > ENGI11 : 0.03\n",
            "  > BRML3 : 0.03\n",
            "  > EZTC3 : 0.03\n",
            "  > BBDC4 : 0.03\n",
            "  > CVCB3 : 0.03\n",
            "  > CSAN3 : 0.03\n",
            "  > ASAI3 : 0.03\n",
            "  > AZUL4 : 0.03\n",
            "  > CRFB3 : 0.03\n",
            "  > BBAS3 : 0.03\n",
            "  > CYRE3 : 0.03\n",
            "  > BEEF3 : 0.03\n",
            "  > ABEV3 : 0.03\n",
            "  > BBDC3 : 0.03\n",
            "  > ENEV3 : 0.03\n",
            "  > BRDT3 : 0.03\n",
            "  > FLRY3 : 0.03\n",
            "  > EQTL3 : 0.03\n",
            "  > CIEL3 : 0.03\n",
            "  > CMIG4 : 0.03\n",
            "  > BBSE3 : 0.03\n",
            "  > BRFS3 : 0.03\n",
            "  > CCRO3 : 0.03\n",
            "  > CPLE6 : 0.03\n",
            "  > ELET6 : 0.03\n",
            "  > CPFE3 : 0.03\n",
            "  > BTOW3 : 0.03\n",
            "  > B3SA3 : 0.03\n",
            "  > BPAC11 : 0.03\n",
            "  > GGBR4 : 0.03\n",
            "  > BRAP4 : 0.03\n",
            "  > EGIE3 : 0.03\n",
            "\n",
            "Start: 2020/03, Portfolio: 0.65, iBovespa: 0.68, Dolar: 1.17, Avg. : 0.65\n",
            "  > ELET3 : 0.03\n",
            "  > ENBR3 : 0.03\n",
            "  > GNDI3 : 0.03\n",
            "  > CSNA3 : 0.03\n",
            "  > EMBR3 : 0.03\n",
            "  > ECOR3 : 0.03\n",
            "  > COGN3 : 0.03\n",
            "  > BRKM5 : 0.03\n",
            "  > ENGI11 : 0.03\n",
            "  > BRML3 : 0.03\n",
            "  > EZTC3 : 0.03\n",
            "  > BBDC4 : 0.03\n",
            "  > CVCB3 : 0.03\n",
            "  > CSAN3 : 0.03\n",
            "  > ASAI3 : 0.03\n",
            "  > AZUL4 : 0.03\n",
            "  > CRFB3 : 0.03\n",
            "  > BBAS3 : 0.03\n",
            "  > CYRE3 : 0.03\n",
            "  > BEEF3 : 0.03\n",
            "  > ABEV3 : 0.03\n",
            "  > BBDC3 : 0.03\n",
            "  > ENEV3 : 0.03\n",
            "  > BRDT3 : 0.03\n",
            "  > FLRY3 : 0.03\n",
            "  > EQTL3 : 0.03\n",
            "  > CIEL3 : 0.03\n",
            "  > CMIG4 : 0.03\n",
            "  > BBSE3 : 0.03\n",
            "  > BRFS3 : 0.03\n",
            "  > CCRO3 : 0.03\n",
            "  > CPLE6 : 0.03\n",
            "  > ELET6 : 0.03\n",
            "  > CPFE3 : 0.03\n",
            "  > BTOW3 : 0.03\n",
            "  > B3SA3 : 0.03\n",
            "  > BPAC11 : 0.03\n",
            "  > GGBR4 : 0.03\n",
            "  > BRAP4 : 0.03\n",
            "  > EGIE3 : 0.03\n",
            "\n",
            "Start: 2020/04, Portfolio: 1.17, iBovespa: 1.13, Dolar: 1.03, Avg. : 1.17\n",
            "  > ELET3 : 0.03\n",
            "  > ENBR3 : 0.03\n",
            "  > GNDI3 : 0.03\n",
            "  > CSNA3 : 0.03\n",
            "  > EMBR3 : 0.03\n",
            "  > ECOR3 : 0.03\n",
            "  > COGN3 : 0.03\n",
            "  > BRKM5 : 0.03\n",
            "  > ENGI11 : 0.03\n",
            "  > BRML3 : 0.03\n",
            "  > EZTC3 : 0.03\n",
            "  > BBDC4 : 0.03\n",
            "  > CVCB3 : 0.03\n",
            "  > CSAN3 : 0.03\n",
            "  > ASAI3 : 0.03\n",
            "  > AZUL4 : 0.03\n",
            "  > CRFB3 : 0.03\n",
            "  > BBAS3 : 0.03\n",
            "  > CYRE3 : 0.03\n",
            "  > BEEF3 : 0.03\n",
            "  > ABEV3 : 0.03\n",
            "  > BBDC3 : 0.03\n",
            "  > ENEV3 : 0.03\n",
            "  > BRDT3 : 0.03\n",
            "  > FLRY3 : 0.03\n",
            "  > EQTL3 : 0.03\n",
            "  > CIEL3 : 0.03\n",
            "  > CMIG4 : 0.03\n",
            "  > BBSE3 : 0.03\n",
            "  > BRFS3 : 0.03\n",
            "  > CCRO3 : 0.03\n",
            "  > CPLE6 : 0.03\n",
            "  > ELET6 : 0.03\n",
            "  > CPFE3 : 0.03\n",
            "  > BTOW3 : 0.03\n",
            "  > B3SA3 : 0.03\n",
            "  > BPAC11 : 0.03\n",
            "  > GGBR4 : 0.03\n",
            "  > BRAP4 : 0.03\n",
            "  > EGIE3 : 0.03\n",
            "\n",
            "Start: 2020/05, Portfolio: 1.12, iBovespa: nan, Dolar: 0.98, Avg. : 1.12\n",
            "  > ELET3 : 0.03\n",
            "  > ENBR3 : 0.03\n",
            "  > GNDI3 : 0.03\n",
            "  > CSNA3 : 0.03\n",
            "  > EMBR3 : 0.03\n",
            "  > ECOR3 : 0.03\n",
            "  > COGN3 : 0.03\n",
            "  > BRKM5 : 0.03\n",
            "  > ENGI11 : 0.03\n",
            "  > BRML3 : 0.03\n",
            "  > EZTC3 : 0.03\n",
            "  > BBDC4 : 0.03\n",
            "  > CVCB3 : 0.03\n",
            "  > CSAN3 : 0.03\n",
            "  > ASAI3 : 0.03\n",
            "  > AZUL4 : 0.03\n",
            "  > CRFB3 : 0.03\n",
            "  > BBAS3 : 0.03\n",
            "  > CYRE3 : 0.03\n",
            "  > BEEF3 : 0.03\n",
            "  > ABEV3 : 0.03\n",
            "  > BBDC3 : 0.03\n",
            "  > ENEV3 : 0.03\n",
            "  > BRDT3 : 0.03\n",
            "  > FLRY3 : 0.03\n",
            "  > EQTL3 : 0.03\n",
            "  > CIEL3 : 0.03\n",
            "  > CMIG4 : 0.03\n",
            "  > BBSE3 : 0.03\n",
            "  > BRFS3 : 0.03\n",
            "  > CCRO3 : 0.03\n",
            "  > CPLE6 : 0.03\n",
            "  > ELET6 : 0.03\n",
            "  > CPFE3 : 0.03\n",
            "  > BTOW3 : 0.03\n",
            "  > B3SA3 : 0.03\n",
            "  > BPAC11 : 0.03\n",
            "  > GGBR4 : 0.03\n",
            "  > BRAP4 : 0.03\n",
            "  > EGIE3 : 0.03\n",
            "\n",
            "Start: 2020/06, Portfolio: 1.08, iBovespa: 1.07, Dolar: 1.01, Avg. : 1.08\n",
            "  > ELET3 : 0.03\n",
            "  > ENBR3 : 0.03\n",
            "  > GNDI3 : 0.03\n",
            "  > CSNA3 : 0.03\n",
            "  > EMBR3 : 0.03\n",
            "  > ECOR3 : 0.03\n",
            "  > COGN3 : 0.03\n",
            "  > BRKM5 : 0.03\n",
            "  > ENGI11 : 0.03\n",
            "  > BRML3 : 0.03\n",
            "  > EZTC3 : 0.03\n",
            "  > BBDC4 : 0.03\n",
            "  > CVCB3 : 0.03\n",
            "  > CSAN3 : 0.03\n",
            "  > ASAI3 : 0.03\n",
            "  > AZUL4 : 0.03\n",
            "  > CRFB3 : 0.03\n",
            "  > BBAS3 : 0.03\n",
            "  > CYRE3 : 0.03\n",
            "  > BEEF3 : 0.03\n",
            "  > ABEV3 : 0.03\n",
            "  > BBDC3 : 0.03\n",
            "  > ENEV3 : 0.03\n",
            "  > BRDT3 : 0.03\n",
            "  > FLRY3 : 0.03\n",
            "  > EQTL3 : 0.03\n",
            "  > CIEL3 : 0.03\n",
            "  > CMIG4 : 0.03\n",
            "  > BBSE3 : 0.03\n",
            "  > BRFS3 : 0.03\n",
            "  > CCRO3 : 0.03\n",
            "  > CPLE6 : 0.03\n",
            "  > ELET6 : 0.03\n",
            "  > CPFE3 : 0.03\n",
            "  > BTOW3 : 0.03\n",
            "  > B3SA3 : 0.03\n",
            "  > BPAC11 : 0.03\n",
            "  > GGBR4 : 0.03\n",
            "  > BRAP4 : 0.03\n",
            "  > EGIE3 : 0.03\n",
            "\n",
            "Start: 2020/07, Portfolio: 1.07, iBovespa: 1.07, Dolar: 0.94, Avg. : 1.07\n",
            "  > ELET3 : 0.03\n",
            "  > ENBR3 : 0.03\n",
            "  > GNDI3 : 0.03\n",
            "  > CSNA3 : 0.03\n",
            "  > EMBR3 : 0.03\n",
            "  > ECOR3 : 0.03\n",
            "  > COGN3 : 0.03\n",
            "  > BRKM5 : 0.03\n",
            "  > ENGI11 : 0.03\n",
            "  > BRML3 : 0.03\n",
            "  > EZTC3 : 0.03\n",
            "  > BBDC4 : 0.03\n",
            "  > CVCB3 : 0.03\n",
            "  > CSAN3 : 0.03\n",
            "  > ASAI3 : 0.03\n",
            "  > AZUL4 : 0.03\n",
            "  > CRFB3 : 0.03\n",
            "  > BBAS3 : 0.03\n",
            "  > CYRE3 : 0.03\n",
            "  > BEEF3 : 0.03\n",
            "  > ABEV3 : 0.03\n",
            "  > BBDC3 : 0.03\n",
            "  > ENEV3 : 0.03\n",
            "  > BRDT3 : 0.03\n",
            "  > FLRY3 : 0.03\n",
            "  > EQTL3 : 0.03\n",
            "  > CIEL3 : 0.03\n",
            "  > CMIG4 : 0.03\n",
            "  > BBSE3 : 0.03\n",
            "  > BRFS3 : 0.03\n",
            "  > CCRO3 : 0.03\n",
            "  > CPLE6 : 0.03\n",
            "  > ELET6 : 0.03\n",
            "  > CPFE3 : 0.03\n",
            "  > BTOW3 : 0.03\n",
            "  > B3SA3 : 0.03\n",
            "  > BPAC11 : 0.03\n",
            "  > GGBR4 : 0.03\n",
            "  > BRAP4 : 0.03\n",
            "  > EGIE3 : 0.03\n",
            "\n",
            "Start: 2020/08, Portfolio: 0.95, iBovespa: 0.97, Dolar: 1.03, Avg. : 0.95\n",
            "  > ELET3 : 0.03\n",
            "  > ENBR3 : 0.03\n",
            "  > GNDI3 : 0.03\n",
            "  > CSNA3 : 0.03\n",
            "  > EMBR3 : 0.03\n",
            "  > ECOR3 : 0.03\n",
            "  > COGN3 : 0.03\n",
            "  > BRKM5 : 0.03\n",
            "  > ENGI11 : 0.03\n",
            "  > BRML3 : 0.03\n",
            "  > EZTC3 : 0.03\n",
            "  > BBDC4 : 0.03\n",
            "  > CVCB3 : 0.03\n",
            "  > CSAN3 : 0.03\n",
            "  > ASAI3 : 0.03\n",
            "  > AZUL4 : 0.03\n",
            "  > CRFB3 : 0.03\n",
            "  > BBAS3 : 0.03\n",
            "  > CYRE3 : 0.03\n",
            "  > BEEF3 : 0.03\n",
            "  > ABEV3 : 0.03\n",
            "  > BBDC3 : 0.03\n",
            "  > ENEV3 : 0.03\n",
            "  > BRDT3 : 0.03\n",
            "  > FLRY3 : 0.03\n",
            "  > EQTL3 : 0.03\n",
            "  > CIEL3 : 0.03\n",
            "  > CMIG4 : 0.03\n",
            "  > BBSE3 : 0.03\n",
            "  > BRFS3 : 0.03\n",
            "  > CCRO3 : 0.03\n",
            "  > CPLE6 : 0.03\n",
            "  > ELET6 : 0.03\n",
            "  > CPFE3 : 0.03\n",
            "  > BTOW3 : 0.03\n",
            "  > B3SA3 : 0.03\n",
            "  > BPAC11 : 0.03\n",
            "  > GGBR4 : 0.03\n",
            "  > BRAP4 : 0.03\n",
            "  > EGIE3 : 0.03\n",
            "\n",
            "Start: 2020/09, Portfolio: 0.92, iBovespa: 0.93, Dolar: 1.03, Avg. : 0.92\n",
            "  > ELET3 : 0.03\n",
            "  > ENBR3 : 0.03\n",
            "  > GNDI3 : 0.03\n",
            "  > CSNA3 : 0.03\n",
            "  > EMBR3 : 0.03\n",
            "  > ECOR3 : 0.03\n",
            "  > COGN3 : 0.03\n",
            "  > BRKM5 : 0.03\n",
            "  > ENGI11 : 0.03\n",
            "  > BRML3 : 0.03\n",
            "  > EZTC3 : 0.03\n",
            "  > BBDC4 : 0.03\n",
            "  > CVCB3 : 0.03\n",
            "  > CSAN3 : 0.03\n",
            "  > ASAI3 : 0.03\n",
            "  > AZUL4 : 0.03\n",
            "  > CRFB3 : 0.03\n",
            "  > BBAS3 : 0.03\n",
            "  > CYRE3 : 0.03\n",
            "  > BEEF3 : 0.03\n",
            "  > ABEV3 : 0.03\n",
            "  > BBDC3 : 0.03\n",
            "  > ENEV3 : 0.03\n",
            "  > BRDT3 : 0.03\n",
            "  > FLRY3 : 0.03\n",
            "  > EQTL3 : 0.03\n",
            "  > CIEL3 : 0.03\n",
            "  > CMIG4 : 0.03\n",
            "  > BBSE3 : 0.03\n",
            "  > BRFS3 : 0.03\n",
            "  > CCRO3 : 0.03\n",
            "  > CPLE6 : 0.03\n",
            "  > ELET6 : 0.03\n",
            "  > CPFE3 : 0.03\n",
            "  > BTOW3 : 0.03\n",
            "  > B3SA3 : 0.03\n",
            "  > BPAC11 : 0.03\n",
            "  > GGBR4 : 0.03\n",
            "  > BRAP4 : 0.03\n",
            "  > EGIE3 : 0.03\n",
            "\n",
            "Start: 2020/10, Portfolio: 0.96, iBovespa: 0.98, Dolar: 1.03, Avg. : 0.96\n",
            "  > ELET3 : 0.03\n",
            "  > ENBR3 : 0.03\n",
            "  > GNDI3 : 0.03\n",
            "  > CSNA3 : 0.03\n",
            "  > EMBR3 : 0.03\n",
            "  > ECOR3 : 0.03\n",
            "  > COGN3 : 0.03\n",
            "  > BRKM5 : 0.03\n",
            "  > ENGI11 : 0.03\n",
            "  > BRML3 : 0.03\n",
            "  > EZTC3 : 0.03\n",
            "  > BBDC4 : 0.03\n",
            "  > CVCB3 : 0.03\n",
            "  > CSAN3 : 0.03\n",
            "  > ASAI3 : 0.03\n",
            "  > AZUL4 : 0.03\n",
            "  > CRFB3 : 0.03\n",
            "  > BBAS3 : 0.03\n",
            "  > CYRE3 : 0.03\n",
            "  > BEEF3 : 0.03\n",
            "  > ABEV3 : 0.03\n",
            "  > BBDC3 : 0.03\n",
            "  > ENEV3 : 0.03\n",
            "  > BRDT3 : 0.03\n",
            "  > FLRY3 : 0.03\n",
            "  > EQTL3 : 0.03\n",
            "  > CIEL3 : 0.03\n",
            "  > CMIG4 : 0.03\n",
            "  > BBSE3 : 0.03\n",
            "  > BRFS3 : 0.03\n",
            "  > CCRO3 : 0.03\n",
            "  > CPLE6 : 0.03\n",
            "  > ELET6 : 0.03\n",
            "  > CPFE3 : 0.03\n",
            "  > BTOW3 : 0.03\n",
            "  > B3SA3 : 0.03\n",
            "  > BPAC11 : 0.03\n",
            "  > GGBR4 : 0.03\n",
            "  > BRAP4 : 0.03\n",
            "  > EGIE3 : 0.03\n",
            "\n",
            "Start: 2020/11, Portfolio: 1.13, iBovespa: nan, Dolar: 0.93, Avg. : 1.13\n",
            "  > ELET3 : 0.03\n",
            "  > ENBR3 : 0.03\n",
            "  > GNDI3 : 0.03\n",
            "  > CSNA3 : 0.03\n",
            "  > EMBR3 : 0.03\n",
            "  > ECOR3 : 0.03\n",
            "  > COGN3 : 0.03\n",
            "  > BRKM5 : 0.03\n",
            "  > ENGI11 : 0.03\n",
            "  > BRML3 : 0.03\n",
            "  > EZTC3 : 0.03\n",
            "  > BBDC4 : 0.03\n",
            "  > CVCB3 : 0.03\n",
            "  > CSAN3 : 0.03\n",
            "  > ASAI3 : 0.03\n",
            "  > AZUL4 : 0.03\n",
            "  > CRFB3 : 0.03\n",
            "  > BBAS3 : 0.03\n",
            "  > CYRE3 : 0.03\n",
            "  > BEEF3 : 0.03\n",
            "  > ABEV3 : 0.03\n",
            "  > BBDC3 : 0.03\n",
            "  > ENEV3 : 0.03\n",
            "  > BRDT3 : 0.03\n",
            "  > FLRY3 : 0.03\n",
            "  > EQTL3 : 0.03\n",
            "  > CIEL3 : 0.03\n",
            "  > CMIG4 : 0.03\n",
            "  > BBSE3 : 0.03\n",
            "  > BRFS3 : 0.03\n",
            "  > CCRO3 : 0.03\n",
            "  > CPLE6 : 0.03\n",
            "  > ELET6 : 0.03\n",
            "  > CPFE3 : 0.03\n",
            "  > BTOW3 : 0.03\n",
            "  > B3SA3 : 0.03\n",
            "  > BPAC11 : 0.03\n",
            "  > GGBR4 : 0.03\n",
            "  > BRAP4 : 0.03\n",
            "  > EGIE3 : 0.03\n",
            "\n",
            "Start: 2020/12, Portfolio: 1.07, iBovespa: nan, Dolar: 0.97, Avg. : 1.07\n",
            "  > ELET3 : 0.03\n",
            "  > ENBR3 : 0.03\n",
            "  > GNDI3 : 0.03\n",
            "  > CSNA3 : 0.03\n",
            "  > EMBR3 : 0.03\n",
            "  > ECOR3 : 0.03\n",
            "  > COGN3 : 0.03\n",
            "  > BRKM5 : 0.03\n",
            "  > ENGI11 : 0.03\n",
            "  > BRML3 : 0.03\n",
            "  > EZTC3 : 0.03\n",
            "  > BBDC4 : 0.03\n",
            "  > CVCB3 : 0.03\n",
            "  > CSAN3 : 0.03\n",
            "  > ASAI3 : 0.03\n",
            "  > AZUL4 : 0.03\n",
            "  > CRFB3 : 0.03\n",
            "  > BBAS3 : 0.03\n",
            "  > CYRE3 : 0.03\n",
            "  > BEEF3 : 0.03\n",
            "  > ABEV3 : 0.03\n",
            "  > BBDC3 : 0.03\n",
            "  > ENEV3 : 0.03\n",
            "  > BRDT3 : 0.03\n",
            "  > FLRY3 : 0.03\n",
            "  > EQTL3 : 0.03\n",
            "  > CIEL3 : 0.03\n",
            "  > CMIG4 : 0.03\n",
            "  > BBSE3 : 0.03\n",
            "  > BRFS3 : 0.03\n",
            "  > CCRO3 : 0.03\n",
            "  > CPLE6 : 0.03\n",
            "  > ELET6 : 0.03\n",
            "  > CPFE3 : 0.03\n",
            "  > BTOW3 : 0.03\n",
            "  > B3SA3 : 0.03\n",
            "  > BPAC11 : 0.03\n",
            "  > GGBR4 : 0.03\n",
            "  > BRAP4 : 0.03\n",
            "  > EGIE3 : 0.03\n",
            "\n",
            "Start: 2021/01, Portfolio: 0.97, iBovespa: nan, Dolar: 1.05, Avg. : 0.97\n",
            "  > ELET3 : 0.03\n",
            "  > ENBR3 : 0.03\n",
            "  > GNDI3 : 0.03\n",
            "  > CSNA3 : 0.03\n",
            "  > EMBR3 : 0.03\n",
            "  > ECOR3 : 0.03\n",
            "  > COGN3 : 0.03\n",
            "  > BRKM5 : 0.03\n",
            "  > ENGI11 : 0.03\n",
            "  > BRML3 : 0.03\n",
            "  > EZTC3 : 0.03\n",
            "  > BBDC4 : 0.03\n",
            "  > CVCB3 : 0.03\n",
            "  > CSAN3 : 0.03\n",
            "  > ASAI3 : 0.03\n",
            "  > AZUL4 : 0.03\n",
            "  > CRFB3 : 0.03\n",
            "  > BBAS3 : 0.03\n",
            "  > CYRE3 : 0.03\n",
            "  > BEEF3 : 0.03\n",
            "  > ABEV3 : 0.03\n",
            "  > BBDC3 : 0.03\n",
            "  > ENEV3 : 0.03\n",
            "  > BRDT3 : 0.03\n",
            "  > FLRY3 : 0.03\n",
            "  > EQTL3 : 0.03\n",
            "  > CIEL3 : 0.03\n",
            "  > CMIG4 : 0.03\n",
            "  > BBSE3 : 0.03\n",
            "  > BRFS3 : 0.03\n",
            "  > CCRO3 : 0.03\n",
            "  > CPLE6 : 0.03\n",
            "  > ELET6 : 0.03\n",
            "  > CPFE3 : 0.03\n",
            "  > BTOW3 : 0.03\n",
            "  > B3SA3 : 0.03\n",
            "  > BPAC11 : 0.03\n",
            "  > GGBR4 : 0.03\n",
            "  > BRAP4 : 0.03\n",
            "  > EGIE3 : 0.03\n",
            "\n",
            "Start: 2021/02, Portfolio: 0.96, iBovespa: 0.94, Dolar: 1.01, Avg. : 0.96\n",
            "  > ELET3 : 0.03\n",
            "  > ENBR3 : 0.03\n",
            "  > GNDI3 : 0.03\n",
            "  > CSNA3 : 0.03\n",
            "  > EMBR3 : 0.03\n",
            "  > ECOR3 : 0.03\n",
            "  > COGN3 : 0.03\n",
            "  > BRKM5 : 0.03\n",
            "  > ENGI11 : 0.03\n",
            "  > BRML3 : 0.03\n",
            "  > EZTC3 : 0.03\n",
            "  > BBDC4 : 0.03\n",
            "  > CVCB3 : 0.03\n",
            "  > CSAN3 : 0.03\n",
            "  > ASAI3 : 0.03\n",
            "  > AZUL4 : 0.03\n",
            "  > CRFB3 : 0.03\n",
            "  > BBAS3 : 0.03\n",
            "  > CYRE3 : 0.03\n",
            "  > BEEF3 : 0.03\n",
            "  > ABEV3 : 0.03\n",
            "  > BBDC3 : 0.03\n",
            "  > ENEV3 : 0.03\n",
            "  > BRDT3 : 0.03\n",
            "  > FLRY3 : 0.03\n",
            "  > EQTL3 : 0.03\n",
            "  > CIEL3 : 0.03\n",
            "  > CMIG4 : 0.03\n",
            "  > BBSE3 : 0.03\n",
            "  > BRFS3 : 0.03\n",
            "  > CCRO3 : 0.03\n",
            "  > CPLE6 : 0.03\n",
            "  > ELET6 : 0.03\n",
            "  > CPFE3 : 0.03\n",
            "  > BTOW3 : 0.03\n",
            "  > B3SA3 : 0.03\n",
            "  > BPAC11 : 0.03\n",
            "  > GGBR4 : 0.03\n",
            "  > BRAP4 : 0.03\n",
            "  > EGIE3 : 0.03\n",
            "\n",
            "Start: 2021/03, Portfolio: 1.09, iBovespa: 1.06, Dolar: 1.03, Avg. : 1.09\n",
            "  > ELET3 : 0.03\n",
            "  > ENBR3 : 0.03\n",
            "  > GNDI3 : 0.03\n",
            "  > CSNA3 : 0.03\n",
            "  > EMBR3 : 0.03\n",
            "  > ECOR3 : 0.03\n",
            "  > COGN3 : 0.03\n",
            "  > BRKM5 : 0.03\n",
            "  > ENGI11 : 0.03\n",
            "  > BRML3 : 0.03\n",
            "  > EZTC3 : 0.03\n",
            "  > BBDC4 : 0.03\n",
            "  > CVCB3 : 0.03\n",
            "  > CSAN3 : 0.03\n",
            "  > ASAI3 : 0.03\n",
            "  > AZUL4 : 0.03\n",
            "  > CRFB3 : 0.03\n",
            "  > BBAS3 : 0.03\n",
            "  > CYRE3 : 0.03\n",
            "  > BEEF3 : 0.03\n",
            "  > ABEV3 : 0.03\n",
            "  > BBDC3 : 0.03\n",
            "  > ENEV3 : 0.03\n",
            "  > BRDT3 : 0.03\n",
            "  > FLRY3 : 0.03\n",
            "  > EQTL3 : 0.03\n",
            "  > CIEL3 : 0.03\n",
            "  > CMIG4 : 0.03\n",
            "  > BBSE3 : 0.03\n",
            "  > BRFS3 : 0.03\n",
            "  > CCRO3 : 0.03\n",
            "  > CPLE6 : 0.03\n",
            "  > ELET6 : 0.03\n",
            "  > CPFE3 : 0.03\n",
            "  > BTOW3 : 0.03\n",
            "  > B3SA3 : 0.03\n",
            "  > BPAC11 : 0.03\n",
            "  > GGBR4 : 0.03\n",
            "  > BRAP4 : 0.03\n",
            "  > EGIE3 : 0.03\n",
            "\n",
            "Start: 2021/04, Portfolio: 1.14, iBovespa: 1.05, Dolar: 0.97, Avg. : 1.16\n",
            "  > CSNA3 : 0.24\n",
            "  > BRKM5 : 0.05\n",
            "  > BEEF3 : 0.02\n",
            "  > ENEV3 : 0.21\n",
            "  > BPAC11 : 0.22\n",
            "  > BRAP4 : 0.25\n"
          ],
          "name": "stdout"
        }
      ]
    },
    {
      "cell_type": "markdown",
      "metadata": {
        "id": "xPvjA6IVpgPb"
      },
      "source": [
        "## Apresentando os resultados"
      ]
    },
    {
      "cell_type": "code",
      "metadata": {
        "id": "wT2hJkJRqQNx"
      },
      "source": [
        "d = {'Date' : pd.to_datetime(time),\n",
        "    'Portfolio' : p,\n",
        "    'iBovespa' : b1,\n",
        "    'Dolar' : b2,\n",
        "    'Avg. BVSP' : b3}\n",
        "df_results = pd.DataFrame(data=d)\n",
        "df_results.set_index('Date', inplace=True)"
      ],
      "execution_count": 39,
      "outputs": []
    },
    {
      "cell_type": "code",
      "metadata": {
        "id": "DDBvahyGqQ4Y",
        "colab": {
          "base_uri": "https://localhost:8080/"
        },
        "outputId": "52553663-f4cf-4ef6-86f1-3a3310208dce"
      },
      "source": [
        "print('Average - Monthly returns:')\n",
        "df_results.mean(axis=0)"
      ],
      "execution_count": 40,
      "outputs": [
        {
          "output_type": "stream",
          "text": [
            "Average - Monthly returns:\n"
          ],
          "name": "stdout"
        },
        {
          "output_type": "execute_result",
          "data": {
            "text/plain": [
              "Portfolio    1.010333\n",
              "iBovespa     0.980646\n",
              "Dolar        1.018032\n",
              "Avg. BVSP    1.011115\n",
              "dtype: float64"
            ]
          },
          "metadata": {
            "tags": []
          },
          "execution_count": 40
        }
      ]
    },
    {
      "cell_type": "code",
      "metadata": {
        "id": "mKnAdxLdqS8Q",
        "colab": {
          "base_uri": "https://localhost:8080/"
        },
        "outputId": "87d7e428-9393-4ad9-c82e-4a5620d71322"
      },
      "source": [
        "print('std - Monthly returns:')\n",
        "df_results.std(axis=0)"
      ],
      "execution_count": 41,
      "outputs": [
        {
          "output_type": "stream",
          "text": [
            "std - Monthly returns:\n"
          ],
          "name": "stdout"
        },
        {
          "output_type": "execute_result",
          "data": {
            "text/plain": [
              "Portfolio    0.129255\n",
              "iBovespa     0.121600\n",
              "Dolar        0.055134\n",
              "Avg. BVSP    0.130146\n",
              "dtype: float64"
            ]
          },
          "metadata": {
            "tags": []
          },
          "execution_count": 41
        }
      ]
    },
    {
      "cell_type": "code",
      "metadata": {
        "id": "L35WvQXyqYCI",
        "colab": {
          "base_uri": "https://localhost:8080/",
          "height": 308
        },
        "outputId": "aac34117-5977-4dd9-f753-5decab007edd"
      },
      "source": [
        "ax = df_results.plot(style='-o')\n",
        "ax.axhline(y=1.0, color='gray', linestyle='--', lw=0.5)"
      ],
      "execution_count": 42,
      "outputs": [
        {
          "output_type": "execute_result",
          "data": {
            "text/plain": [
              "<matplotlib.lines.Line2D at 0x7fe5d0738090>"
            ]
          },
          "metadata": {
            "tags": []
          },
          "execution_count": 42
        },
        {
          "output_type": "display_data",
          "data": {
            "image/png": "[encoded data removed]",
            "text/plain": [
              "<Figure size 432x288 with 1 Axes>"
            ]
          },
          "metadata": {
            "tags": [],
            "needs_background": "light"
          }
        }
      ]
    }
  ]
}
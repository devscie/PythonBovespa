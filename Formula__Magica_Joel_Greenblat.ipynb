{
  "nbformat": 4,
  "nbformat_minor": 0,
  "metadata": {
    "colab": {
      "name": "Formula _Magica_Joel_Greenblat.ipynb",
      "provenance": [],
      "authorship_tag": "ABX9TyNDJR86sw6CJtQdUrh9Xzj0"
    },
    "kernelspec": {
      "name": "python3",
      "display_name": "Python 3"
    },
    "language_info": {
      "name": "python"
    }
  },
  "cells": [
    {
      "cell_type": "markdown",
      "metadata": {
        "id": "t6a04uquM__w"
      },
      "source": [
        "# Fórmula Mágica - Joel Greenblat"
      ]
    },
    {
      "cell_type": "markdown",
      "metadata": {
        "id": "c-3dVzIyNBIP"
      },
      "source": [
        "Gerar um ranking de ações da Bovespa, seguinte critérios de liquidez diária, ROIC e P/L. Fonte dos dados: Fundamentus"
      ]
    },
    {
      "cell_type": "markdown",
      "metadata": {
        "id": "AGT4T0VdNeKY"
      },
      "source": [
        "## 1 - Importando Bibliotecas"
      ]
    },
    {
      "cell_type": "code",
      "metadata": {
        "id": "GJ2QgZ0jO6iD"
      },
      "source": [
        "import pandas as pd\n",
        "import requests\n",
        "import string\n",
        "\n",
        "import warnings\n",
        "warnings.filterwarnings('ignore')"
      ],
      "execution_count": 1,
      "outputs": []
    },
    {
      "cell_type": "markdown",
      "metadata": {
        "id": "gJfSz9GfRb2m"
      },
      "source": [
        "## 2 - Carregando Dados"
      ]
    },
    {
      "cell_type": "code",
      "metadata": {
        "id": "Ti4r_ahHRbfw"
      },
      "source": [
        "url = 'http://www.fundamentus.com.br/resultado.php'\n",
        "\n",
        "header = {\n",
        "  \"User-Agent\": \"Mozilla/5.0 (Windows NT 10.0; Win64; x64) AppleWebKit/537.36 (KHTML, like Gecko) Chrome/84.0.4147.89 Safari/537.36\"  \n",
        " }\n",
        "\n",
        "r = requests.get(url, headers=header)\n",
        "df = pd.read_html(r.text,  decimal=',', thousands='.')[0]\n",
        "\n",
        "# Pre-processamento dos dados: troca ',' por '.' em alguns decimais, e converte strings para float\n",
        "\n",
        "for coluna in ['Div.Yield', 'Mrg Ebit', 'Mrg. Líq.', 'ROIC', 'ROE', 'Cresc. Rec.5a']:\n",
        "  df[coluna] = df[coluna].str.replace('.', '')\n",
        "  df[coluna] = df[coluna].str.replace(',', '.')\n",
        "  df[coluna] = df[coluna].str.rstrip('%').astype(float) / 100"
      ],
      "execution_count": 2,
      "outputs": []
    },
    {
      "cell_type": "markdown",
      "metadata": {
        "id": "ngbyK475RxWC"
      },
      "source": [
        "## Filtros de liquidez e \"qualidade\" - P/L e ROE"
      ]
    },
    {
      "cell_type": "code",
      "metadata": {
        "colab": {
          "base_uri": "https://localhost:8080/"
        },
        "id": "0_A8r2yURyiN",
        "outputId": "8a7d03c2-cdc7-423a-f1a1-6ba7b65b1923"
      },
      "source": [
        "# Filtro de Liquidez: > 1 Milhão/2 meses\n",
        "df = df[df['Liq.2meses'] > 1000000]\n",
        "\n",
        "# Rankeamento - P/L (>0) e ROE\n",
        "ranking = pd.DataFrame()\n",
        "ranking['position'] = range(1,151)\n",
        "ranking['P/L'] = df[df['P/L'] > 0].sort_values(by=['P/L'])['Papel'][:150].values\n",
        "ranking['ROE'] = df.sort_values(by=['ROE'], ascending=False)['Papel'][:150].values\n",
        "\n",
        "# Variaveis auxiliares para gerar ranking final - Imprime os 15 primeiros\n",
        "aux_a = ranking.pivot_table(columns='P/L', values='position')\n",
        "aux_b = ranking.pivot_table(columns='ROE', values='position')\n",
        "aux_full=pd.concat([aux_a,aux_b])\n",
        "Final_Rank = aux_full.dropna(axis=1).sum()\n",
        "Final_Rank.sort_values()[:20]"
      ],
      "execution_count": 3,
      "outputs": [
        {
          "output_type": "execute_result",
          "data": {
            "text/plain": [
              "MRFG3     11\n",
              "CSNA3     35\n",
              "BEEF3     38\n",
              "TAEE11    41\n",
              "TAEE3     42\n",
              "TAEE4     43\n",
              "TASA4     44\n",
              "ETER3     46\n",
              "TASA3     47\n",
              "CYRE3     47\n",
              "SULA11    51\n",
              "TRPL4     52\n",
              "CESP6     53\n",
              "BRDT3     55\n",
              "TIET11    56\n",
              "RAPT4     58\n",
              "TPIS3     59\n",
              "WIZS3     60\n",
              "GPCP3     61\n",
              "CPLE3     66\n",
              "dtype: int64"
            ]
          },
          "metadata": {
            "tags": []
          },
          "execution_count": 3
        }
      ]
    },
    {
      "cell_type": "markdown",
      "metadata": {
        "id": "7bOygA-MSEuS"
      },
      "source": [
        "## Filtros de liquidez e \"qualidade\" alternativos - EV/EBIT e ROIC \n",
        "\n",
        "(DESCONSIDERAR FINANCEIRAS E BANCOS!!!)"
      ]
    },
    {
      "cell_type": "code",
      "metadata": {
        "colab": {
          "base_uri": "https://localhost:8080/"
        },
        "id": "xNlHsTi7SMfA",
        "outputId": "4b526d98-a16f-4b61-8fe8-a004bf68afac"
      },
      "source": [
        "# Filtro de Liquidez: > 1 Milhão/2 meses\n",
        "df = df[df['Liq.2meses'] > 1000000]\n",
        "\n",
        "# Rankeamento - EV/EBIT (>0) e ROIC\n",
        "ranking = pd.DataFrame()\n",
        "ranking['position'] = range(1,151)\n",
        "ranking['EV/EBIT'] = df[df['EV/EBIT'] > 0].sort_values(by=['EV/EBIT'])['Papel'][:150].values\n",
        "ranking['ROIC'] = df.sort_values(by=['ROIC'], ascending=False)['Papel'][:150].values\n",
        "\n",
        "# Variaveis auxiliares para gerar ranking final - Imprime os 15 primeiros\n",
        "aux_a = ranking.pivot_table(columns='EV/EBIT', values='position')\n",
        "aux_b = ranking.pivot_table(columns='ROIC', values='position')\n",
        "aux_full=pd.concat([aux_a,aux_b])\n",
        "Final_Rank = aux_full.dropna(axis=1).sum()\n",
        "Final_Rank.sort_values()[:20]"
      ],
      "execution_count": 4,
      "outputs": [
        {
          "output_type": "execute_result",
          "data": {
            "text/plain": [
              "PSSA3      6\n",
              "WIZS3      8\n",
              "VALE3     15\n",
              "MRFG3     16\n",
              "CMIN3     19\n",
              "PLPL3     24\n",
              "TIET11    39\n",
              "CSNA3     40\n",
              "BEEF3     43\n",
              "ALUP11    49\n",
              "TASA4     49\n",
              "TASA3     51\n",
              "AURA33    51\n",
              "TRPL4     57\n",
              "JBSS3     61\n",
              "USIM5     62\n",
              "USIM3     65\n",
              "PCAR3     66\n",
              "SAPR11    67\n",
              "SAPR3     67\n",
              "dtype: int64"
            ]
          },
          "metadata": {
            "tags": []
          },
          "execution_count": 4
        }
      ]
    }
  ]
}